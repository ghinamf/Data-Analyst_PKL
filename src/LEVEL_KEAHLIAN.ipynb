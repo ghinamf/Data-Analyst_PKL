{
 "cells": [
  {
   "cell_type": "markdown",
   "metadata": {},
   "source": [
    "# Libraries"
   ]
  },
  {
   "cell_type": "code",
   "execution_count": 1,
   "metadata": {},
   "outputs": [],
   "source": [
    "import pandas as pd\n",
    "import numpy as np\n",
    "import seaborn as sns\n",
    "import matplotlib.pyplot as plt\n",
    "from sklearn.preprocessing import OneHotEncoder, MinMaxScaler\n",
    "from sklearn.model_selection import train_test_split, KFold, cross_val_score, StratifiedKFold, GridSearchCV\n",
    "from sklearn.tree import DecisionTreeClassifier\n",
    "from sklearn import tree\n",
    "from sklearn.metrics import confusion_matrix, classification_report, roc_auc_score, accuracy_score\n"
   ]
  },
  {
   "cell_type": "markdown",
   "metadata": {},
   "source": [
    "# Data Explorations"
   ]
  },
  {
   "cell_type": "code",
   "execution_count": 2,
   "metadata": {},
   "outputs": [
    {
     "data": {
      "text/html": [
       "<div>\n",
       "<style scoped>\n",
       "    .dataframe tbody tr th:only-of-type {\n",
       "        vertical-align: middle;\n",
       "    }\n",
       "\n",
       "    .dataframe tbody tr th {\n",
       "        vertical-align: top;\n",
       "    }\n",
       "\n",
       "    .dataframe thead th {\n",
       "        text-align: right;\n",
       "    }\n",
       "</style>\n",
       "<table border=\"1\" class=\"dataframe\">\n",
       "  <thead>\n",
       "    <tr style=\"text-align: right;\">\n",
       "      <th></th>\n",
       "      <th>NAMA</th>\n",
       "      <th>DURATIONS_PERPROJECT</th>\n",
       "      <th>TOTAL_PROJECT</th>\n",
       "      <th>TOTAL_TIME</th>\n",
       "      <th>NIK</th>\n",
       "      <th>STATUS</th>\n",
       "      <th>LAMA_KERJA</th>\n",
       "      <th>DIVISI</th>\n",
       "      <th>KUALIFIKASI</th>\n",
       "      <th>GOL</th>\n",
       "      <th>LOKASI</th>\n",
       "      <th>TIPE KEAHLIAN</th>\n",
       "      <th>KELAS KEAHLIAN</th>\n",
       "      <th>LEVEL KEAHLIAN</th>\n",
       "      <th>KELAS JABATAN</th>\n",
       "      <th>JABATAN</th>\n",
       "    </tr>\n",
       "  </thead>\n",
       "  <tbody>\n",
       "    <tr>\n",
       "      <th>0</th>\n",
       "      <td>Achmad Fauzi</td>\n",
       "      <td>0.0</td>\n",
       "      <td>2.0</td>\n",
       "      <td>2602.0</td>\n",
       "      <td>350000</td>\n",
       "      <td>Kontrak</td>\n",
       "      <td>3</td>\n",
       "      <td>DSO</td>\n",
       "      <td>S1</td>\n",
       "      <td>B1</td>\n",
       "      <td>Jakarta</td>\n",
       "      <td>Perekayasa</td>\n",
       "      <td>6</td>\n",
       "      <td>Perekayasa Madya</td>\n",
       "      <td>2</td>\n",
       "      <td>STAF LV. 3</td>\n",
       "    </tr>\n",
       "    <tr>\n",
       "      <th>1</th>\n",
       "      <td>Adi Pratama</td>\n",
       "      <td>7.0</td>\n",
       "      <td>6.0</td>\n",
       "      <td>8064.0</td>\n",
       "      <td>8502,013</td>\n",
       "      <td>Tetap</td>\n",
       "      <td>16</td>\n",
       "      <td>DSO</td>\n",
       "      <td>S1</td>\n",
       "      <td>C3</td>\n",
       "      <td>Malang</td>\n",
       "      <td>Perekayasa</td>\n",
       "      <td>2</td>\n",
       "      <td>Pimpinan Muda</td>\n",
       "      <td>1</td>\n",
       "      <td>MANAGER</td>\n",
       "    </tr>\n",
       "    <tr>\n",
       "      <th>2</th>\n",
       "      <td>Adinda Azzahra</td>\n",
       "      <td>NaN</td>\n",
       "      <td>NaN</td>\n",
       "      <td>NaN</td>\n",
       "      <td>9112,046</td>\n",
       "      <td>Tetap</td>\n",
       "      <td>16</td>\n",
       "      <td>DAK</td>\n",
       "      <td>S1</td>\n",
       "      <td>B3</td>\n",
       "      <td>Jakarta</td>\n",
       "      <td>Pelaksana</td>\n",
       "      <td>3</td>\n",
       "      <td>Pelaksana Utama</td>\n",
       "      <td>4</td>\n",
       "      <td>STAF LV. 3</td>\n",
       "    </tr>\n",
       "    <tr>\n",
       "      <th>3</th>\n",
       "      <td>Afrilia Fajarwati</td>\n",
       "      <td>NaN</td>\n",
       "      <td>NaN</td>\n",
       "      <td>NaN</td>\n",
       "      <td>221001</td>\n",
       "      <td>Kontrak</td>\n",
       "      <td>1</td>\n",
       "      <td>DAK</td>\n",
       "      <td>S1</td>\n",
       "      <td>B1-MI</td>\n",
       "      <td>Malang</td>\n",
       "      <td>Pelaksana</td>\n",
       "      <td>2</td>\n",
       "      <td>Pelaksana Pemula</td>\n",
       "      <td>2</td>\n",
       "      <td>STAF LV.0</td>\n",
       "    </tr>\n",
       "    <tr>\n",
       "      <th>4</th>\n",
       "      <td>Afrizal Aditya</td>\n",
       "      <td>29.0</td>\n",
       "      <td>3.0</td>\n",
       "      <td>56.0</td>\n",
       "      <td>9301,057</td>\n",
       "      <td>Tetap</td>\n",
       "      <td>9</td>\n",
       "      <td>DIP</td>\n",
       "      <td>S1</td>\n",
       "      <td>B3</td>\n",
       "      <td>Malang</td>\n",
       "      <td>Perekayasa</td>\n",
       "      <td>2</td>\n",
       "      <td>Pimpinan Pemula</td>\n",
       "      <td>7</td>\n",
       "      <td>STAF LV. 3 / ASS. SUPERVISOR</td>\n",
       "    </tr>\n",
       "  </tbody>\n",
       "</table>\n",
       "</div>"
      ],
      "text/plain": [
       "                NAMA  DURATIONS_PERPROJECT  TOTAL_PROJECT  TOTAL_TIME  \\\n",
       "0       Achmad Fauzi                   0.0            2.0      2602.0   \n",
       "1        Adi Pratama                   7.0            6.0      8064.0   \n",
       "2     Adinda Azzahra                   NaN            NaN         NaN   \n",
       "3  Afrilia Fajarwati                   NaN            NaN         NaN   \n",
       "4     Afrizal Aditya                  29.0            3.0        56.0   \n",
       "\n",
       "        NIK   STATUS  LAMA_KERJA DIVISI KUALIFIKASI    GOL   LOKASI  \\\n",
       "0    350000  Kontrak           3    DSO          S1     B1  Jakarta   \n",
       "1  8502,013    Tetap          16    DSO          S1     C3   Malang   \n",
       "2  9112,046    Tetap          16    DAK          S1     B3  Jakarta   \n",
       "3    221001  Kontrak           1    DAK          S1  B1-MI   Malang   \n",
       "4  9301,057    Tetap           9    DIP          S1     B3   Malang   \n",
       "\n",
       "  TIPE KEAHLIAN  KELAS KEAHLIAN    LEVEL KEAHLIAN  KELAS JABATAN  \\\n",
       "0    Perekayasa               6  Perekayasa Madya              2   \n",
       "1    Perekayasa               2     Pimpinan Muda              1   \n",
       "2     Pelaksana               3   Pelaksana Utama              4   \n",
       "3     Pelaksana               2  Pelaksana Pemula              2   \n",
       "4    Perekayasa               2   Pimpinan Pemula              7   \n",
       "\n",
       "                        JABATAN  \n",
       "0                    STAF LV. 3  \n",
       "1                       MANAGER  \n",
       "2                    STAF LV. 3  \n",
       "3                     STAF LV.0  \n",
       "4  STAF LV. 3 / ASS. SUPERVISOR  "
      ]
     },
     "execution_count": 2,
     "metadata": {},
     "output_type": "execute_result"
    }
   ],
   "source": [
    "df= pd.read_csv(r\"C:\\Users\\Lenovo\\analyst_pkl\\data\\combBiodata.csv\", sep=';')\n",
    "df.head(5)"
   ]
  },
  {
   "cell_type": "markdown",
   "metadata": {},
   "source": [
    "# Data Prep"
   ]
  },
  {
   "cell_type": "markdown",
   "metadata": {},
   "source": [
    "## Null Values"
   ]
  },
  {
   "cell_type": "code",
   "execution_count": 3,
   "metadata": {},
   "outputs": [
    {
     "data": {
      "text/plain": [
       "NAMA                    0\n",
       "DURATIONS_PERPROJECT    0\n",
       "TOTAL_PROJECT           0\n",
       "TOTAL_TIME              0\n",
       "NIK                     0\n",
       "STATUS                  0\n",
       "LAMA_KERJA              0\n",
       "DIVISI                  0\n",
       "KUALIFIKASI             0\n",
       "GOL                     0\n",
       "LOKASI                  0\n",
       "TIPE KEAHLIAN           0\n",
       "KELAS KEAHLIAN          0\n",
       "LEVEL KEAHLIAN          0\n",
       "KELAS JABATAN           0\n",
       "JABATAN                 0\n",
       "dtype: int64"
      ]
     },
     "execution_count": 3,
     "metadata": {},
     "output_type": "execute_result"
    }
   ],
   "source": [
    "#since that the data needed is only from PPDB, so we can just drop the non-ppdb (the null values)\n",
    "df1= df.dropna()\n",
    "df1.isnull().sum()"
   ]
  },
  {
   "cell_type": "code",
   "execution_count": 4,
   "metadata": {},
   "outputs": [
    {
     "data": {
      "text/plain": [
       "NAMA                    40\n",
       "DURATIONS_PERPROJECT    19\n",
       "TOTAL_PROJECT           22\n",
       "TOTAL_TIME              39\n",
       "NIK                     40\n",
       "STATUS                   2\n",
       "LAMA_KERJA              12\n",
       "DIVISI                   6\n",
       "KUALIFIKASI              1\n",
       "GOL                     12\n",
       "LOKASI                   3\n",
       "TIPE KEAHLIAN            2\n",
       "KELAS KEAHLIAN           7\n",
       "LEVEL KEAHLIAN          11\n",
       "KELAS JABATAN            7\n",
       "JABATAN                  8\n",
       "dtype: int64"
      ]
     },
     "execution_count": 4,
     "metadata": {},
     "output_type": "execute_result"
    }
   ],
   "source": [
    "df1.nunique()"
   ]
  },
  {
   "cell_type": "markdown",
   "metadata": {},
   "source": [
    "## Data Corr"
   ]
  },
  {
   "cell_type": "markdown",
   "metadata": {},
   "source": [
    "the detail steps of data mining are on TIPE_KEAHLIAN.ipynb file"
   ]
  },
  {
   "cell_type": "markdown",
   "metadata": {},
   "source": [
    "## CSV of LEVEL_KEAHLIAN"
   ]
  },
  {
   "cell_type": "code",
   "execution_count": 5,
   "metadata": {},
   "outputs": [],
   "source": [
    "df1.to_csv(r\"C:\\Users\\Lenovo\\analyst_pkl\\data\\LEVEL_KEAHLIAN.csv\")"
   ]
  },
  {
   "cell_type": "markdown",
   "metadata": {},
   "source": [
    "## LEVEL_KEAHLIAN Data Prep"
   ]
  },
  {
   "cell_type": "code",
   "execution_count": null,
   "metadata": {},
   "outputs": [],
   "source": [
    "data= pd.read_csv(r\"C:\\Users\\Lenovo\\analyst_pkl\\data\\TIPE_KEAHLIAN.csv\")\n",
    "data.head()"
   ]
  }
 ],
 "metadata": {
  "kernelspec": {
   "display_name": "Python 3",
   "language": "python",
   "name": "python3"
  },
  "language_info": {
   "codemirror_mode": {
    "name": "ipython",
    "version": 3
   },
   "file_extension": ".py",
   "mimetype": "text/x-python",
   "name": "python",
   "nbconvert_exporter": "python",
   "pygments_lexer": "ipython3",
   "version": "3.11.4"
  }
 },
 "nbformat": 4,
 "nbformat_minor": 2
}
