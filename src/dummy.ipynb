{
 "cells": [
  {
   "cell_type": "code",
   "execution_count": 2,
   "metadata": {},
   "outputs": [
    {
     "name": "stdout",
     "output_type": "stream",
     "text": [
      "Dummy data created and saved successfully.\n"
     ]
    }
   ],
   "source": [
    "import pandas as pd\n",
    "import numpy as np\n",
    "\n",
    "# Number of dummy data rows to generate\n",
    "num_rows = 47\n",
    "\n",
    "# Calculate the number of rows for each qualification\n",
    "num_sma = num_rows // 3\n",
    "num_s1 = num_rows // 3\n",
    "num_s2 = num_rows - num_sma - num_s1\n",
    "\n",
    "# Generate ages for each qualification\n",
    "ages_sma = np.random.randint(22, 25, size=num_sma)\n",
    "ages_s1 = np.random.randint(26, 35, size=num_s1)\n",
    "ages_s2 = np.random.randint(36, 60, size=num_s2)\n",
    "\n",
    "# Combine ages\n",
    "ages = np.concatenate([ages_sma, ages_s1, ages_s2])\n",
    "\n",
    "# Create qualifications\n",
    "qualifications = ['Lulus SMA'] * num_sma + ['S1'] * num_s1 + ['S2'] * num_s2\n",
    "\n",
    "# Shuffle the ages and qualifications together to mix them up\n",
    "combined = list(zip(ages, qualifications))\n",
    "np.random.shuffle(combined)\n",
    "ages, qualifications = zip(*combined)\n",
    "\n",
    "# Create a DataFrame with dummy data\n",
    "dummy_data = {\n",
    "    'Nama Resolver': [f'Nama_{i}' for i in range(num_rows)],\n",
    "    'ID Resolver': np.random.randint(1, 200, size=num_rows),\n",
    "    'Grup Resolver': np.random.choice(['DSO', 'DIP', 'DBM', 'DLA', 'DMS', 'DAK', 'Missing'], size=num_rows),\n",
    "    'Total Project': np.random.randint(1, 100, size=num_rows),\n",
    "    'Total Time': np.random.randint(1, 20000, size=num_rows),\n",
    "    'usia': ages,\n",
    "    'kualifikasi': qualifications,\n",
    "    'lama_kerja': np.random.randint(1, 360, size=num_rows),\n",
    "    'kelas_keahlian': np.random.choice(['Muda', 'Madya', 'Utama'], size=num_rows),\n",
    "}\n",
    "\n",
    "dummy_df = pd.DataFrame(dummy_data)\n",
    "\n",
    "dummy_df = pd.DataFrame(dummy_data)\n",
    "\n",
    "# Save the dummy data to a CSV file\n",
    "dummy_df.to_csv(r'C:\\Users\\Lenovo\\Downloads\\pkl_rough\\dummyData.csv', index=False)\n",
    "\n",
    "print(\"Dummy data created and saved successfully.\")\n"
   ]
  },
  {
   "cell_type": "code",
   "execution_count": null,
   "metadata": {},
   "outputs": [],
   "source": []
  }
 ],
 "metadata": {
  "kernelspec": {
   "display_name": "Python 3",
   "language": "python",
   "name": "python3"
  },
  "language_info": {
   "codemirror_mode": {
    "name": "ipython",
    "version": 3
   },
   "file_extension": ".py",
   "mimetype": "text/x-python",
   "name": "python",
   "nbconvert_exporter": "python",
   "pygments_lexer": "ipython3",
   "version": "3.11.4"
  }
 },
 "nbformat": 4,
 "nbformat_minor": 2
}
