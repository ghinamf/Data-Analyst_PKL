{
 "cells": [
  {
   "cell_type": "code",
   "execution_count": 2,
   "metadata": {},
   "outputs": [],
   "source": [
    "import pandas as pd\n",
    "import numpy as np"
   ]
  },
  {
   "cell_type": "markdown",
   "metadata": {},
   "source": [
    "# 1. Data Overview"
   ]
  },
  {
   "cell_type": "code",
   "execution_count": 3,
   "metadata": {},
   "outputs": [
    {
     "data": {
      "text/html": [
       "<div>\n",
       "<style scoped>\n",
       "    .dataframe tbody tr th:only-of-type {\n",
       "        vertical-align: middle;\n",
       "    }\n",
       "\n",
       "    .dataframe tbody tr th {\n",
       "        vertical-align: top;\n",
       "    }\n",
       "\n",
       "    .dataframe thead th {\n",
       "        text-align: right;\n",
       "    }\n",
       "</style>\n",
       "<table border=\"1\" class=\"dataframe\">\n",
       "  <thead>\n",
       "    <tr style=\"text-align: right;\">\n",
       "      <th></th>\n",
       "      <th>ID Resolver</th>\n",
       "      <th>Nama Resolver</th>\n",
       "      <th>Grup Resolver</th>\n",
       "      <th>Durations</th>\n",
       "      <th>Total Project</th>\n",
       "      <th>Total Time</th>\n",
       "      <th>Usia</th>\n",
       "      <th>Kualifikasi</th>\n",
       "      <th>Lama Kerja</th>\n",
       "      <th>Kelas Keahlian</th>\n",
       "    </tr>\n",
       "  </thead>\n",
       "  <tbody>\n",
       "    <tr>\n",
       "      <th>0</th>\n",
       "      <td>69</td>\n",
       "      <td>Febrian Hilmi Firdaus</td>\n",
       "      <td>DSO</td>\n",
       "      <td>5</td>\n",
       "      <td>10</td>\n",
       "      <td>3831</td>\n",
       "      <td>48</td>\n",
       "      <td>S2</td>\n",
       "      <td>13</td>\n",
       "      <td>Utama</td>\n",
       "    </tr>\n",
       "    <tr>\n",
       "      <th>1</th>\n",
       "      <td>4</td>\n",
       "      <td>Azhar Mashuri</td>\n",
       "      <td>DIP</td>\n",
       "      <td>0</td>\n",
       "      <td>51</td>\n",
       "      <td>3734</td>\n",
       "      <td>28</td>\n",
       "      <td>S1</td>\n",
       "      <td>24</td>\n",
       "      <td>Madya</td>\n",
       "    </tr>\n",
       "    <tr>\n",
       "      <th>2</th>\n",
       "      <td>74</td>\n",
       "      <td>Hayan .</td>\n",
       "      <td>DSO</td>\n",
       "      <td>0</td>\n",
       "      <td>6</td>\n",
       "      <td>2043</td>\n",
       "      <td>22</td>\n",
       "      <td>Lulus SMA</td>\n",
       "      <td>69</td>\n",
       "      <td>Madya</td>\n",
       "    </tr>\n",
       "    <tr>\n",
       "      <th>3</th>\n",
       "      <td>62</td>\n",
       "      <td>Villa Nanda</td>\n",
       "      <td>DIP</td>\n",
       "      <td>1</td>\n",
       "      <td>20</td>\n",
       "      <td>754</td>\n",
       "      <td>22</td>\n",
       "      <td>Lulus SMA</td>\n",
       "      <td>122</td>\n",
       "      <td>Muda</td>\n",
       "    </tr>\n",
       "    <tr>\n",
       "      <th>4</th>\n",
       "      <td>41</td>\n",
       "      <td>Ghazi Muwaffaq</td>\n",
       "      <td>DSO</td>\n",
       "      <td>52</td>\n",
       "      <td>5</td>\n",
       "      <td>7052</td>\n",
       "      <td>24</td>\n",
       "      <td>Lulus SMA</td>\n",
       "      <td>135</td>\n",
       "      <td>Utama</td>\n",
       "    </tr>\n",
       "  </tbody>\n",
       "</table>\n",
       "</div>"
      ],
      "text/plain": [
       "   ID Resolver          Nama Resolver Grup Resolver  Durations  Total Project  \\\n",
       "0           69  Febrian Hilmi Firdaus           DSO          5             10   \n",
       "1            4          Azhar Mashuri           DIP          0             51   \n",
       "2           74                Hayan .           DSO          0              6   \n",
       "3           62            Villa Nanda           DIP          1             20   \n",
       "4           41         Ghazi Muwaffaq           DSO         52              5   \n",
       "\n",
       "   Total Time  Usia Kualifikasi  Lama Kerja Kelas Keahlian  \n",
       "0        3831    48          S2          13          Utama  \n",
       "1        3734    28          S1          24          Madya  \n",
       "2        2043    22   Lulus SMA          69          Madya  \n",
       "3         754    22   Lulus SMA         122           Muda  \n",
       "4        7052    24   Lulus SMA         135          Utama  "
      ]
     },
     "execution_count": 3,
     "metadata": {},
     "output_type": "execute_result"
    }
   ],
   "source": [
    "data= pd.read_csv(r\"C:\\Users\\Lenovo\\analyst_pkl\\data\\cleanedData.csv\", sep=';')\n",
    "data.head(5)"
   ]
  },
  {
   "cell_type": "code",
   "execution_count": 4,
   "metadata": {},
   "outputs": [
    {
     "data": {
      "text/plain": [
       "(46, 10)"
      ]
     },
     "execution_count": 4,
     "metadata": {},
     "output_type": "execute_result"
    }
   ],
   "source": [
    "data.shape"
   ]
  },
  {
   "cell_type": "markdown",
   "metadata": {},
   "source": [
    "# 2. Data Prep"
   ]
  },
  {
   "cell_type": "code",
   "execution_count": 5,
   "metadata": {},
   "outputs": [
    {
     "data": {
      "text/html": [
       "<div>\n",
       "<style scoped>\n",
       "    .dataframe tbody tr th:only-of-type {\n",
       "        vertical-align: middle;\n",
       "    }\n",
       "\n",
       "    .dataframe tbody tr th {\n",
       "        vertical-align: top;\n",
       "    }\n",
       "\n",
       "    .dataframe thead th {\n",
       "        text-align: right;\n",
       "    }\n",
       "</style>\n",
       "<table border=\"1\" class=\"dataframe\">\n",
       "  <thead>\n",
       "    <tr style=\"text-align: right;\">\n",
       "      <th></th>\n",
       "      <th>ID Resolver</th>\n",
       "      <th>Nama Resolver</th>\n",
       "      <th>Grup Resolver</th>\n",
       "      <th>Durations</th>\n",
       "      <th>Total Project</th>\n",
       "      <th>Total Time</th>\n",
       "      <th>Usia</th>\n",
       "      <th>Kualifikasi</th>\n",
       "      <th>Lama Kerja</th>\n",
       "      <th>Kelas Keahlian</th>\n",
       "    </tr>\n",
       "  </thead>\n",
       "  <tbody>\n",
       "    <tr>\n",
       "      <th>0</th>\n",
       "      <td>69</td>\n",
       "      <td>Febrian Hilmi Firdaus</td>\n",
       "      <td>DSO</td>\n",
       "      <td>5</td>\n",
       "      <td>10</td>\n",
       "      <td>3831</td>\n",
       "      <td>48</td>\n",
       "      <td>S2</td>\n",
       "      <td>13</td>\n",
       "      <td>Utama</td>\n",
       "    </tr>\n",
       "    <tr>\n",
       "      <th>1</th>\n",
       "      <td>4</td>\n",
       "      <td>Azhar Mashuri</td>\n",
       "      <td>DIP</td>\n",
       "      <td>0</td>\n",
       "      <td>51</td>\n",
       "      <td>3734</td>\n",
       "      <td>28</td>\n",
       "      <td>S1</td>\n",
       "      <td>24</td>\n",
       "      <td>Madya</td>\n",
       "    </tr>\n",
       "    <tr>\n",
       "      <th>2</th>\n",
       "      <td>74</td>\n",
       "      <td>Hayan</td>\n",
       "      <td>DSO</td>\n",
       "      <td>0</td>\n",
       "      <td>6</td>\n",
       "      <td>2043</td>\n",
       "      <td>22</td>\n",
       "      <td>Lulus SMA</td>\n",
       "      <td>69</td>\n",
       "      <td>Madya</td>\n",
       "    </tr>\n",
       "    <tr>\n",
       "      <th>3</th>\n",
       "      <td>62</td>\n",
       "      <td>Villa Nanda</td>\n",
       "      <td>DIP</td>\n",
       "      <td>1</td>\n",
       "      <td>20</td>\n",
       "      <td>754</td>\n",
       "      <td>22</td>\n",
       "      <td>Lulus SMA</td>\n",
       "      <td>122</td>\n",
       "      <td>Muda</td>\n",
       "    </tr>\n",
       "    <tr>\n",
       "      <th>4</th>\n",
       "      <td>41</td>\n",
       "      <td>Ghazi Muwaffaq</td>\n",
       "      <td>DSO</td>\n",
       "      <td>52</td>\n",
       "      <td>5</td>\n",
       "      <td>7052</td>\n",
       "      <td>24</td>\n",
       "      <td>Lulus SMA</td>\n",
       "      <td>135</td>\n",
       "      <td>Utama</td>\n",
       "    </tr>\n",
       "  </tbody>\n",
       "</table>\n",
       "</div>"
      ],
      "text/plain": [
       "   ID Resolver          Nama Resolver Grup Resolver  Durations  Total Project  \\\n",
       "0           69  Febrian Hilmi Firdaus           DSO          5             10   \n",
       "1            4          Azhar Mashuri           DIP          0             51   \n",
       "2           74                  Hayan           DSO          0              6   \n",
       "3           62            Villa Nanda           DIP          1             20   \n",
       "4           41         Ghazi Muwaffaq           DSO         52              5   \n",
       "\n",
       "   Total Time  Usia Kualifikasi  Lama Kerja Kelas Keahlian  \n",
       "0        3831    48          S2          13          Utama  \n",
       "1        3734    28          S1          24          Madya  \n",
       "2        2043    22   Lulus SMA          69          Madya  \n",
       "3         754    22   Lulus SMA         122           Muda  \n",
       "4        7052    24   Lulus SMA         135          Utama  "
      ]
     },
     "execution_count": 5,
     "metadata": {},
     "output_type": "execute_result"
    }
   ],
   "source": [
    "#removing unwanted signs\n",
    "data['Nama Resolver'] = data['Nama Resolver'].str.replace('.', '', regex=False).str.strip()\n",
    "data['Nama Resolver'] = data['Nama Resolver'].str.replace('-', '', regex=False).str.strip()\n",
    "data.head(5)"
   ]
  },
  {
   "cell_type": "markdown",
   "metadata": {},
   "source": [
    "## Categorical Data"
   ]
  },
  {
   "cell_type": "code",
   "execution_count": 6,
   "metadata": {},
   "outputs": [],
   "source": [
    "#objt(str) to category\n",
    "data['Grup Resolver'] = data['Grup Resolver'].astype('category')\n",
    "data['Nama Resolver'] = data['Nama Resolver'].astype('category')\n",
    "data['Kualifikasi'] = data['Kualifikasi'].astype('category')\n",
    "data['Kelas Keahlian'] = data['Kelas Keahlian'].astype('category')"
   ]
  },
  {
   "cell_type": "code",
   "execution_count": 7,
   "metadata": {},
   "outputs": [],
   "source": [
    "#encoding with LabelEncoder\n",
    "from sklearn.calibration import LabelEncoder\n",
    "encoder= LabelEncoder()"
   ]
  },
  {
   "cell_type": "code",
   "execution_count": 8,
   "metadata": {},
   "outputs": [
    {
     "data": {
      "text/html": [
       "<div>\n",
       "<style scoped>\n",
       "    .dataframe tbody tr th:only-of-type {\n",
       "        vertical-align: middle;\n",
       "    }\n",
       "\n",
       "    .dataframe tbody tr th {\n",
       "        vertical-align: top;\n",
       "    }\n",
       "\n",
       "    .dataframe thead th {\n",
       "        text-align: right;\n",
       "    }\n",
       "</style>\n",
       "<table border=\"1\" class=\"dataframe\">\n",
       "  <thead>\n",
       "    <tr style=\"text-align: right;\">\n",
       "      <th></th>\n",
       "      <th>ID Resolver</th>\n",
       "      <th>Durations</th>\n",
       "      <th>Total Project</th>\n",
       "      <th>Total Time</th>\n",
       "      <th>Usia</th>\n",
       "      <th>Lama Kerja</th>\n",
       "      <th>Kualifikasi_enc</th>\n",
       "      <th>KelasKeahlian_enc</th>\n",
       "      <th>GrupResolver_enc</th>\n",
       "      <th>NamaResolver_enc</th>\n",
       "    </tr>\n",
       "  </thead>\n",
       "  <tbody>\n",
       "    <tr>\n",
       "      <th>0</th>\n",
       "      <td>69</td>\n",
       "      <td>5</td>\n",
       "      <td>10</td>\n",
       "      <td>3831</td>\n",
       "      <td>48</td>\n",
       "      <td>13</td>\n",
       "      <td>2</td>\n",
       "      <td>2</td>\n",
       "      <td>6</td>\n",
       "      <td>20</td>\n",
       "    </tr>\n",
       "    <tr>\n",
       "      <th>1</th>\n",
       "      <td>4</td>\n",
       "      <td>0</td>\n",
       "      <td>51</td>\n",
       "      <td>3734</td>\n",
       "      <td>28</td>\n",
       "      <td>24</td>\n",
       "      <td>1</td>\n",
       "      <td>0</td>\n",
       "      <td>3</td>\n",
       "      <td>8</td>\n",
       "    </tr>\n",
       "    <tr>\n",
       "      <th>2</th>\n",
       "      <td>74</td>\n",
       "      <td>0</td>\n",
       "      <td>6</td>\n",
       "      <td>2043</td>\n",
       "      <td>22</td>\n",
       "      <td>69</td>\n",
       "      <td>0</td>\n",
       "      <td>0</td>\n",
       "      <td>6</td>\n",
       "      <td>23</td>\n",
       "    </tr>\n",
       "    <tr>\n",
       "      <th>3</th>\n",
       "      <td>62</td>\n",
       "      <td>1</td>\n",
       "      <td>20</td>\n",
       "      <td>754</td>\n",
       "      <td>22</td>\n",
       "      <td>122</td>\n",
       "      <td>0</td>\n",
       "      <td>1</td>\n",
       "      <td>3</td>\n",
       "      <td>41</td>\n",
       "    </tr>\n",
       "    <tr>\n",
       "      <th>4</th>\n",
       "      <td>41</td>\n",
       "      <td>52</td>\n",
       "      <td>5</td>\n",
       "      <td>7052</td>\n",
       "      <td>24</td>\n",
       "      <td>135</td>\n",
       "      <td>0</td>\n",
       "      <td>2</td>\n",
       "      <td>6</td>\n",
       "      <td>21</td>\n",
       "    </tr>\n",
       "  </tbody>\n",
       "</table>\n",
       "</div>"
      ],
      "text/plain": [
       "   ID Resolver  Durations  Total Project  Total Time  Usia  Lama Kerja  \\\n",
       "0           69          5             10        3831    48          13   \n",
       "1            4          0             51        3734    28          24   \n",
       "2           74          0              6        2043    22          69   \n",
       "3           62          1             20         754    22         122   \n",
       "4           41         52              5        7052    24         135   \n",
       "\n",
       "   Kualifikasi_enc  KelasKeahlian_enc  GrupResolver_enc  NamaResolver_enc  \n",
       "0                2                  2                 6                20  \n",
       "1                1                  0                 3                 8  \n",
       "2                0                  0                 6                23  \n",
       "3                0                  1                 3                41  \n",
       "4                0                  2                 6                21  "
      ]
     },
     "execution_count": 8,
     "metadata": {},
     "output_type": "execute_result"
    }
   ],
   "source": [
    "#encoding columns for Data Corr\n",
    "data['Kualifikasi_enc']= encoder.fit_transform(data['Kualifikasi'])\n",
    "data['KelasKeahlian_enc']= encoder.fit_transform(data['Kelas Keahlian'])\n",
    "data['GrupResolver_enc']= encoder.fit_transform(data['Grup Resolver'])\n",
    "data['NamaResolver_enc']= encoder.fit_transform(data['Nama Resolver'])\n",
    "data= data.drop(['Kualifikasi', 'Kelas Keahlian', 'Grup Resolver', 'Nama Resolver'], axis=1)\n",
    "data.head()"
   ]
  },
  {
   "cell_type": "code",
   "execution_count": 9,
   "metadata": {},
   "outputs": [],
   "source": [
    "data= data.drop(['ID Resolver', 'NamaResolver_enc'], axis=1)"
   ]
  },
  {
   "cell_type": "code",
   "execution_count": 10,
   "metadata": {},
   "outputs": [
    {
     "data": {
      "text/html": [
       "<div>\n",
       "<style scoped>\n",
       "    .dataframe tbody tr th:only-of-type {\n",
       "        vertical-align: middle;\n",
       "    }\n",
       "\n",
       "    .dataframe tbody tr th {\n",
       "        vertical-align: top;\n",
       "    }\n",
       "\n",
       "    .dataframe thead th {\n",
       "        text-align: right;\n",
       "    }\n",
       "</style>\n",
       "<table border=\"1\" class=\"dataframe\">\n",
       "  <thead>\n",
       "    <tr style=\"text-align: right;\">\n",
       "      <th></th>\n",
       "      <th>Durations</th>\n",
       "      <th>Total Project</th>\n",
       "      <th>Total Time</th>\n",
       "      <th>Usia</th>\n",
       "      <th>Lama Kerja</th>\n",
       "      <th>Kualifikasi_enc</th>\n",
       "      <th>KelasKeahlian_enc</th>\n",
       "      <th>GrupResolver_enc</th>\n",
       "    </tr>\n",
       "  </thead>\n",
       "  <tbody>\n",
       "    <tr>\n",
       "      <th>0</th>\n",
       "      <td>5</td>\n",
       "      <td>10</td>\n",
       "      <td>3831</td>\n",
       "      <td>48</td>\n",
       "      <td>13</td>\n",
       "      <td>2</td>\n",
       "      <td>2</td>\n",
       "      <td>6</td>\n",
       "    </tr>\n",
       "    <tr>\n",
       "      <th>1</th>\n",
       "      <td>0</td>\n",
       "      <td>51</td>\n",
       "      <td>3734</td>\n",
       "      <td>28</td>\n",
       "      <td>24</td>\n",
       "      <td>1</td>\n",
       "      <td>0</td>\n",
       "      <td>3</td>\n",
       "    </tr>\n",
       "    <tr>\n",
       "      <th>2</th>\n",
       "      <td>0</td>\n",
       "      <td>6</td>\n",
       "      <td>2043</td>\n",
       "      <td>22</td>\n",
       "      <td>69</td>\n",
       "      <td>0</td>\n",
       "      <td>0</td>\n",
       "      <td>6</td>\n",
       "    </tr>\n",
       "    <tr>\n",
       "      <th>3</th>\n",
       "      <td>1</td>\n",
       "      <td>20</td>\n",
       "      <td>754</td>\n",
       "      <td>22</td>\n",
       "      <td>122</td>\n",
       "      <td>0</td>\n",
       "      <td>1</td>\n",
       "      <td>3</td>\n",
       "    </tr>\n",
       "    <tr>\n",
       "      <th>4</th>\n",
       "      <td>52</td>\n",
       "      <td>5</td>\n",
       "      <td>7052</td>\n",
       "      <td>24</td>\n",
       "      <td>135</td>\n",
       "      <td>0</td>\n",
       "      <td>2</td>\n",
       "      <td>6</td>\n",
       "    </tr>\n",
       "  </tbody>\n",
       "</table>\n",
       "</div>"
      ],
      "text/plain": [
       "   Durations  Total Project  Total Time  Usia  Lama Kerja  Kualifikasi_enc  \\\n",
       "0          5             10        3831    48          13                2   \n",
       "1          0             51        3734    28          24                1   \n",
       "2          0              6        2043    22          69                0   \n",
       "3          1             20         754    22         122                0   \n",
       "4         52              5        7052    24         135                0   \n",
       "\n",
       "   KelasKeahlian_enc  GrupResolver_enc  \n",
       "0                  2                 6  \n",
       "1                  0                 3  \n",
       "2                  0                 6  \n",
       "3                  1                 3  \n",
       "4                  2                 6  "
      ]
     },
     "execution_count": 10,
     "metadata": {},
     "output_type": "execute_result"
    }
   ],
   "source": [
    "data.head()"
   ]
  },
  {
   "cell_type": "markdown",
   "metadata": {},
   "source": [
    "# Data Model"
   ]
  },
  {
   "cell_type": "markdown",
   "metadata": {},
   "source": [
    "## Feature Selection + Splitting"
   ]
  },
  {
   "cell_type": "code",
   "execution_count": 11,
   "metadata": {},
   "outputs": [],
   "source": [
    "from sklearn.model_selection import train_test_split\n",
    "X = data.copy()\n",
    "X= X.drop(['KelasKeahlian_enc'], axis= 1)\n",
    "y = data['KelasKeahlian_enc']\n",
    "X_train, X_test, y_train, y_test = train_test_split(X, y, test_size=0.2)"
   ]
  },
  {
   "cell_type": "markdown",
   "metadata": {},
   "source": [
    "## Normalization"
   ]
  },
  {
   "cell_type": "code",
   "execution_count": 12,
   "metadata": {},
   "outputs": [
    {
     "data": {
      "text/html": [
       "<div>\n",
       "<style scoped>\n",
       "    .dataframe tbody tr th:only-of-type {\n",
       "        vertical-align: middle;\n",
       "    }\n",
       "\n",
       "    .dataframe tbody tr th {\n",
       "        vertical-align: top;\n",
       "    }\n",
       "\n",
       "    .dataframe thead th {\n",
       "        text-align: right;\n",
       "    }\n",
       "</style>\n",
       "<table border=\"1\" class=\"dataframe\">\n",
       "  <thead>\n",
       "    <tr style=\"text-align: right;\">\n",
       "      <th></th>\n",
       "      <th>Durations</th>\n",
       "      <th>Total Project</th>\n",
       "      <th>Total Time</th>\n",
       "      <th>Usia</th>\n",
       "      <th>Lama Kerja</th>\n",
       "      <th>Kualifikasi_enc</th>\n",
       "      <th>GrupResolver_enc</th>\n",
       "    </tr>\n",
       "  </thead>\n",
       "  <tbody>\n",
       "    <tr>\n",
       "      <th>0</th>\n",
       "      <td>0.502220</td>\n",
       "      <td>0.00</td>\n",
       "      <td>0.060051</td>\n",
       "      <td>0.055556</td>\n",
       "      <td>0.802360</td>\n",
       "      <td>0.0</td>\n",
       "      <td>1.000000</td>\n",
       "    </tr>\n",
       "    <tr>\n",
       "      <th>1</th>\n",
       "      <td>0.008074</td>\n",
       "      <td>0.08</td>\n",
       "      <td>0.018745</td>\n",
       "      <td>0.000000</td>\n",
       "      <td>0.286136</td>\n",
       "      <td>0.0</td>\n",
       "      <td>0.857143</td>\n",
       "    </tr>\n",
       "    <tr>\n",
       "      <th>2</th>\n",
       "      <td>0.009689</td>\n",
       "      <td>0.00</td>\n",
       "      <td>0.726074</td>\n",
       "      <td>0.194444</td>\n",
       "      <td>0.336283</td>\n",
       "      <td>0.5</td>\n",
       "      <td>0.285714</td>\n",
       "    </tr>\n",
       "    <tr>\n",
       "      <th>3</th>\n",
       "      <td>0.000000</td>\n",
       "      <td>0.44</td>\n",
       "      <td>0.000000</td>\n",
       "      <td>0.000000</td>\n",
       "      <td>0.616519</td>\n",
       "      <td>0.0</td>\n",
       "      <td>0.714286</td>\n",
       "    </tr>\n",
       "    <tr>\n",
       "      <th>4</th>\n",
       "      <td>0.020993</td>\n",
       "      <td>0.08</td>\n",
       "      <td>0.340644</td>\n",
       "      <td>0.055556</td>\n",
       "      <td>0.392330</td>\n",
       "      <td>0.0</td>\n",
       "      <td>0.857143</td>\n",
       "    </tr>\n",
       "  </tbody>\n",
       "</table>\n",
       "</div>"
      ],
      "text/plain": [
       "   Durations  Total Project  Total Time      Usia  Lama Kerja  \\\n",
       "0   0.502220           0.00    0.060051  0.055556    0.802360   \n",
       "1   0.008074           0.08    0.018745  0.000000    0.286136   \n",
       "2   0.009689           0.00    0.726074  0.194444    0.336283   \n",
       "3   0.000000           0.44    0.000000  0.000000    0.616519   \n",
       "4   0.020993           0.08    0.340644  0.055556    0.392330   \n",
       "\n",
       "   Kualifikasi_enc  GrupResolver_enc  \n",
       "0              0.0          1.000000  \n",
       "1              0.0          0.857143  \n",
       "2              0.5          0.285714  \n",
       "3              0.0          0.714286  \n",
       "4              0.0          0.857143  "
      ]
     },
     "execution_count": 12,
     "metadata": {},
     "output_type": "execute_result"
    }
   ],
   "source": [
    "from sklearn.preprocessing import MinMaxScaler\n",
    "#normalization\n",
    "scaler = MinMaxScaler()\n",
    "X_train_normalized = pd.DataFrame(scaler.fit_transform(X_train), columns=X_train.columns)\n",
    "X_train_normalized.head(5)"
   ]
  },
  {
   "cell_type": "markdown",
   "metadata": {},
   "source": [
    "## Outlier"
   ]
  },
  {
   "cell_type": "code",
   "execution_count": 13,
   "metadata": {},
   "outputs": [
    {
     "data": {
      "image/png": "[encoded data removed]",
      "text/plain": [
       "<Figure size 640x480 with 1 Axes>"
      ]
     },
     "metadata": {},
     "output_type": "display_data"
    }
   ],
   "source": [
    "import seaborn as sns\n",
    "import matplotlib.pyplot as plt\n",
    "#identifying with Boxplot\n",
    "sns.boxplot(X_train_normalized[[ 'Durations', 'Total Project', 'Total Time', 'Usia', 'Lama Kerja']])\n",
    "plt.title(\"Outlier Check\", size = 17)\n",
    "plt.xticks(rotation = 90)\n",
    "plt.show()"
   ]
  },
  {
   "cell_type": "markdown",
   "metadata": {},
   "source": [
    "handling outlier with IQR"
   ]
  },
  {
   "cell_type": "markdown",
   "metadata": {},
   "source": [
    "### a. Durations"
   ]
  },
  {
   "cell_type": "code",
   "execution_count": 14,
   "metadata": {},
   "outputs": [
    {
     "data": {
      "text/plain": [
       "(0.0, 0.018570851836899473, 0.018570851836899473)"
      ]
     },
     "execution_count": 14,
     "metadata": {},
     "output_type": "execute_result"
    }
   ],
   "source": [
    "q1= X_train_normalized['Durations'].quantile(0.25)\n",
    "q3= X_train_normalized['Durations'].quantile(0.75)\n",
    "iqr= q3-q1\n",
    "q1, q3, iqr"
   ]
  },
  {
   "cell_type": "code",
   "execution_count": 15,
   "metadata": {},
   "outputs": [
    {
     "data": {
      "text/plain": [
       "(-0.009285425918449736, 0.04642712959224868)"
      ]
     },
     "execution_count": 15,
     "metadata": {},
     "output_type": "execute_result"
    }
   ],
   "source": [
    "upper_limit= q3 + (1.5 * iqr)\n",
    "lower_limit= q3 - (1.5 * iqr)\n",
    "lower_limit, upper_limit"
   ]
  },
  {
   "cell_type": "code",
   "execution_count": 16,
   "metadata": {},
   "outputs": [
    {
     "data": {
      "text/plain": [
       "<Axes: ylabel='Durations'>"
      ]
     },
     "execution_count": 16,
     "metadata": {},
     "output_type": "execute_result"
    },
    {
     "data": {
      "image/png": "[encoded data removed]",
      "text/plain": [
       "<Figure size 640x480 with 1 Axes>"
      ]
     },
     "metadata": {},
     "output_type": "display_data"
    }
   ],
   "source": [
    "sns.boxplot(X_train_normalized['Durations'])"
   ]
  },
  {
   "cell_type": "code",
   "execution_count": 17,
   "metadata": {},
   "outputs": [
    {
     "data": {
      "text/html": [
       "<div>\n",
       "<style scoped>\n",
       "    .dataframe tbody tr th:only-of-type {\n",
       "        vertical-align: middle;\n",
       "    }\n",
       "\n",
       "    .dataframe tbody tr th {\n",
       "        vertical-align: top;\n",
       "    }\n",
       "\n",
       "    .dataframe thead th {\n",
       "        text-align: right;\n",
       "    }\n",
       "</style>\n",
       "<table border=\"1\" class=\"dataframe\">\n",
       "  <thead>\n",
       "    <tr style=\"text-align: right;\">\n",
       "      <th></th>\n",
       "      <th>Durations</th>\n",
       "      <th>Total Project</th>\n",
       "      <th>Total Time</th>\n",
       "      <th>Usia</th>\n",
       "      <th>Lama Kerja</th>\n",
       "      <th>Kualifikasi_enc</th>\n",
       "      <th>GrupResolver_enc</th>\n",
       "    </tr>\n",
       "  </thead>\n",
       "  <tbody>\n",
       "    <tr>\n",
       "      <th>0</th>\n",
       "      <td>0.502220</td>\n",
       "      <td>0.00</td>\n",
       "      <td>0.060051</td>\n",
       "      <td>0.055556</td>\n",
       "      <td>0.802360</td>\n",
       "      <td>0.0</td>\n",
       "      <td>1.000000</td>\n",
       "    </tr>\n",
       "    <tr>\n",
       "      <th>9</th>\n",
       "      <td>0.430359</td>\n",
       "      <td>0.20</td>\n",
       "      <td>0.692207</td>\n",
       "      <td>0.000000</td>\n",
       "      <td>0.560472</td>\n",
       "      <td>0.0</td>\n",
       "      <td>0.857143</td>\n",
       "    </tr>\n",
       "    <tr>\n",
       "      <th>10</th>\n",
       "      <td>0.047235</td>\n",
       "      <td>0.00</td>\n",
       "      <td>0.020387</td>\n",
       "      <td>0.000000</td>\n",
       "      <td>0.321534</td>\n",
       "      <td>0.0</td>\n",
       "      <td>0.000000</td>\n",
       "    </tr>\n",
       "    <tr>\n",
       "      <th>14</th>\n",
       "      <td>0.452564</td>\n",
       "      <td>0.00</td>\n",
       "      <td>0.054109</td>\n",
       "      <td>0.111111</td>\n",
       "      <td>0.286136</td>\n",
       "      <td>0.5</td>\n",
       "      <td>0.428571</td>\n",
       "    </tr>\n",
       "    <tr>\n",
       "      <th>30</th>\n",
       "      <td>1.000000</td>\n",
       "      <td>0.02</td>\n",
       "      <td>0.449297</td>\n",
       "      <td>0.194444</td>\n",
       "      <td>0.696165</td>\n",
       "      <td>0.5</td>\n",
       "      <td>0.285714</td>\n",
       "    </tr>\n",
       "    <tr>\n",
       "      <th>31</th>\n",
       "      <td>0.059346</td>\n",
       "      <td>0.00</td>\n",
       "      <td>0.018986</td>\n",
       "      <td>1.000000</td>\n",
       "      <td>0.855457</td>\n",
       "      <td>1.0</td>\n",
       "      <td>1.000000</td>\n",
       "    </tr>\n",
       "  </tbody>\n",
       "</table>\n",
       "</div>"
      ],
      "text/plain": [
       "    Durations  Total Project  Total Time      Usia  Lama Kerja  \\\n",
       "0    0.502220           0.00    0.060051  0.055556    0.802360   \n",
       "9    0.430359           0.20    0.692207  0.000000    0.560472   \n",
       "10   0.047235           0.00    0.020387  0.000000    0.321534   \n",
       "14   0.452564           0.00    0.054109  0.111111    0.286136   \n",
       "30   1.000000           0.02    0.449297  0.194444    0.696165   \n",
       "31   0.059346           0.00    0.018986  1.000000    0.855457   \n",
       "\n",
       "    Kualifikasi_enc  GrupResolver_enc  \n",
       "0               0.0          1.000000  \n",
       "9               0.0          0.857143  \n",
       "10              0.0          0.000000  \n",
       "14              0.5          0.428571  \n",
       "30              0.5          0.285714  \n",
       "31              1.0          1.000000  "
      ]
     },
     "execution_count": 17,
     "metadata": {},
     "output_type": "execute_result"
    }
   ],
   "source": [
    "# find the outliers of df\n",
    "X_train_normalized.loc[(X_train_normalized['Durations'] > upper_limit) | (X_train_normalized['Durations'] < lower_limit)]"
   ]
  },
  {
   "cell_type": "code",
   "execution_count": 18,
   "metadata": {},
   "outputs": [
    {
     "name": "stdout",
     "output_type": "stream",
     "text": [
      "before removing outliers: 36\n",
      "after removing outliers: 30\n",
      "outliers: 6\n"
     ]
    }
   ],
   "source": [
    "#trimming\n",
    "X_train_nD= X_train_normalized.loc[(X_train_normalized['Durations'] < upper_limit) & (X_train_normalized['Durations'] > lower_limit)]\n",
    "print('before removing outliers:', len(X_train_normalized))\n",
    "print('after removing outliers:', len(X_train_nD))\n",
    "print('outliers:', len(X_train_normalized) - len(X_train_nD))"
   ]
  },
  {
   "cell_type": "code",
   "execution_count": 19,
   "metadata": {},
   "outputs": [
    {
     "data": {
      "text/plain": [
       "<Axes: ylabel='Durations'>"
      ]
     },
     "execution_count": 19,
     "metadata": {},
     "output_type": "execute_result"
    },
    {
     "data": {
      "image/png": "[encoded data removed]",
      "text/plain": [
       "<Figure size 640x480 with 1 Axes>"
      ]
     },
     "metadata": {},
     "output_type": "display_data"
    }
   ],
   "source": [
    "#capping: changing the outlier values to upper/lower limit values\n",
    "X_train_nD = X_train_normalized.copy()\n",
    "X_train_nD.loc[X_train_nD['Durations'] > upper_limit, 'Durations'] = upper_limit\n",
    "X_train_nD.loc[X_train_nD['Durations'] < lower_limit, 'Durations'] = lower_limit\n",
    "sns.boxplot(X_train_nD['Durations'])"
   ]
  },
  {
   "cell_type": "code",
   "execution_count": 20,
   "metadata": {},
   "outputs": [
    {
     "data": {
      "text/plain": [
       "<Axes: ylabel='Durations'>"
      ]
     },
     "execution_count": 20,
     "metadata": {},
     "output_type": "execute_result"
    },
    {
     "data": {
      "image/png": "[encoded data removed]",
      "text/plain": [
       "<Figure size 640x480 with 1 Axes>"
      ]
     },
     "metadata": {},
     "output_type": "display_data"
    }
   ],
   "source": [
    "#capping: changing the outlier values to upper/lower limit values\n",
    "X_train_nD = X_train_normalized.copy()\n",
    "X_train_nD.loc[X_train_nD['Durations'] > upper_limit, 'Durations'] = upper_limit\n",
    "X_train_nD.loc[X_train_nD['Durations'] < lower_limit, 'Durations'] = lower_limit\n",
    "sns.boxplot(X_train_nD['Durations'])"
   ]
  },
  {
   "cell_type": "markdown",
   "metadata": {},
   "source": [
    "### b. Total Project"
   ]
  },
  {
   "cell_type": "code",
   "execution_count": 21,
   "metadata": {},
   "outputs": [
    {
     "data": {
      "text/plain": [
       "(0.0, 0.2, 0.2)"
      ]
     },
     "execution_count": 21,
     "metadata": {},
     "output_type": "execute_result"
    }
   ],
   "source": [
    "q1= X_train_normalized['Total Project'].quantile(0.25)\n",
    "q3= X_train_normalized['Total Project'].quantile(0.75)\n",
    "iqr= q3-q1\n",
    "q1, q3, iqr"
   ]
  },
  {
   "cell_type": "code",
   "execution_count": 22,
   "metadata": {},
   "outputs": [
    {
     "data": {
      "text/plain": [
       "(-0.10000000000000003, 0.5)"
      ]
     },
     "execution_count": 22,
     "metadata": {},
     "output_type": "execute_result"
    }
   ],
   "source": [
    "upper_limit= q3 + (1.5 * iqr)\n",
    "lower_limit= q3 - (1.5 * iqr)\n",
    "lower_limit, upper_limit"
   ]
  },
  {
   "cell_type": "code",
   "execution_count": 23,
   "metadata": {},
   "outputs": [
    {
     "data": {
      "text/plain": [
       "<Axes: ylabel='Total Project'>"
      ]
     },
     "execution_count": 23,
     "metadata": {},
     "output_type": "execute_result"
    },
    {
     "data": {
      "image/png": "[encoded data removed]",
      "text/plain": [
       "<Figure size 640x480 with 1 Axes>"
      ]
     },
     "metadata": {},
     "output_type": "display_data"
    }
   ],
   "source": [
    "sns.boxplot(X_train_normalized['Total Project'])"
   ]
  },
  {
   "cell_type": "code",
   "execution_count": 24,
   "metadata": {},
   "outputs": [
    {
     "data": {
      "text/html": [
       "<div>\n",
       "<style scoped>\n",
       "    .dataframe tbody tr th:only-of-type {\n",
       "        vertical-align: middle;\n",
       "    }\n",
       "\n",
       "    .dataframe tbody tr th {\n",
       "        vertical-align: top;\n",
       "    }\n",
       "\n",
       "    .dataframe thead th {\n",
       "        text-align: right;\n",
       "    }\n",
       "</style>\n",
       "<table border=\"1\" class=\"dataframe\">\n",
       "  <thead>\n",
       "    <tr style=\"text-align: right;\">\n",
       "      <th></th>\n",
       "      <th>Durations</th>\n",
       "      <th>Total Project</th>\n",
       "      <th>Total Time</th>\n",
       "      <th>Usia</th>\n",
       "      <th>Lama Kerja</th>\n",
       "      <th>Kualifikasi_enc</th>\n",
       "      <th>GrupResolver_enc</th>\n",
       "    </tr>\n",
       "  </thead>\n",
       "  <tbody>\n",
       "    <tr>\n",
       "      <th>7</th>\n",
       "      <td>0.009285</td>\n",
       "      <td>0.54</td>\n",
       "      <td>0.022561</td>\n",
       "      <td>0.138889</td>\n",
       "      <td>0.758112</td>\n",
       "      <td>0.5</td>\n",
       "      <td>0.571429</td>\n",
       "    </tr>\n",
       "    <tr>\n",
       "      <th>13</th>\n",
       "      <td>0.000000</td>\n",
       "      <td>1.00</td>\n",
       "      <td>0.180347</td>\n",
       "      <td>0.166667</td>\n",
       "      <td>0.064897</td>\n",
       "      <td>0.5</td>\n",
       "      <td>0.428571</td>\n",
       "    </tr>\n",
       "    <tr>\n",
       "      <th>17</th>\n",
       "      <td>0.000000</td>\n",
       "      <td>0.68</td>\n",
       "      <td>0.040002</td>\n",
       "      <td>0.027778</td>\n",
       "      <td>0.808260</td>\n",
       "      <td>0.0</td>\n",
       "      <td>0.571429</td>\n",
       "    </tr>\n",
       "    <tr>\n",
       "      <th>18</th>\n",
       "      <td>0.000404</td>\n",
       "      <td>0.52</td>\n",
       "      <td>0.062660</td>\n",
       "      <td>0.750000</td>\n",
       "      <td>0.911504</td>\n",
       "      <td>1.0</td>\n",
       "      <td>0.428571</td>\n",
       "    </tr>\n",
       "  </tbody>\n",
       "</table>\n",
       "</div>"
      ],
      "text/plain": [
       "    Durations  Total Project  Total Time      Usia  Lama Kerja  \\\n",
       "7    0.009285           0.54    0.022561  0.138889    0.758112   \n",
       "13   0.000000           1.00    0.180347  0.166667    0.064897   \n",
       "17   0.000000           0.68    0.040002  0.027778    0.808260   \n",
       "18   0.000404           0.52    0.062660  0.750000    0.911504   \n",
       "\n",
       "    Kualifikasi_enc  GrupResolver_enc  \n",
       "7               0.5          0.571429  \n",
       "13              0.5          0.428571  \n",
       "17              0.0          0.571429  \n",
       "18              1.0          0.428571  "
      ]
     },
     "execution_count": 24,
     "metadata": {},
     "output_type": "execute_result"
    }
   ],
   "source": [
    "# find the outliers of df\n",
    "X_train_normalized.loc[(X_train_normalized['Total Project'] > upper_limit) | (X_train_normalized['Total Project'] < lower_limit)]"
   ]
  },
  {
   "cell_type": "code",
   "execution_count": 25,
   "metadata": {},
   "outputs": [
    {
     "name": "stdout",
     "output_type": "stream",
     "text": [
      "before removing outliers: 36\n",
      "after removing outliers: 32\n",
      "outliers: 4\n"
     ]
    }
   ],
   "source": [
    "#trimming\n",
    "X_train_nP= X_train_normalized.loc[(X_train_normalized['Total Project'] < upper_limit) & (X_train_normalized['Total Project'] > lower_limit)]\n",
    "print('before removing outliers:', len(X_train_normalized))\n",
    "print('after removing outliers:', len(X_train_nP))\n",
    "print('outliers:', len(X_train_normalized) - len(X_train_nP))"
   ]
  },
  {
   "cell_type": "code",
   "execution_count": 26,
   "metadata": {},
   "outputs": [
    {
     "data": {
      "text/plain": [
       "<Axes: ylabel='Total Project'>"
      ]
     },
     "execution_count": 26,
     "metadata": {},
     "output_type": "execute_result"
    },
    {
     "data": {
      "image/png": "[encoded data removed]",
      "text/plain": [
       "<Figure size 640x480 with 1 Axes>"
      ]
     },
     "metadata": {},
     "output_type": "display_data"
    }
   ],
   "source": [
    "#capping: changing the outlier values to upper/lower limit values\n",
    "X_train_nP = X_train_normalized.copy()\n",
    "X_train_nP.loc[X_train_nP['Total Project'] > upper_limit, 'Total Project'] = upper_limit\n",
    "X_train_nP.loc[X_train_nP['Total Project'] < lower_limit, 'Total Project'] = lower_limit\n",
    "sns.boxplot(X_train_nP['Total Project'])"
   ]
  },
  {
   "cell_type": "markdown",
   "metadata": {},
   "source": [
    "### c. Total Time"
   ]
  },
  {
   "cell_type": "code",
   "execution_count": 27,
   "metadata": {},
   "outputs": [
    {
     "data": {
      "text/plain": [
       "(0.019457461713126234, 0.18151843084206967, 0.16206096912894344)"
      ]
     },
     "execution_count": 27,
     "metadata": {},
     "output_type": "execute_result"
    }
   ],
   "source": [
    "q1= X_train_normalized['Total Time'].quantile(0.25)\n",
    "q3= X_train_normalized['Total Time'].quantile(0.75)\n",
    "iqr= q3-q1\n",
    "q1, q3, iqr"
   ]
  },
  {
   "cell_type": "code",
   "execution_count": 28,
   "metadata": {},
   "outputs": [
    {
     "data": {
      "text/plain": [
       "(-0.0615730228513455, 0.42460988453548487)"
      ]
     },
     "execution_count": 28,
     "metadata": {},
     "output_type": "execute_result"
    }
   ],
   "source": [
    "upper_limit= q3 + (1.5 * iqr)\n",
    "lower_limit= q3 - (1.5 * iqr)\n",
    "lower_limit, upper_limit"
   ]
  },
  {
   "cell_type": "code",
   "execution_count": 29,
   "metadata": {},
   "outputs": [
    {
     "data": {
      "text/plain": [
       "<Axes: ylabel='Total Time'>"
      ]
     },
     "execution_count": 29,
     "metadata": {},
     "output_type": "execute_result"
    },
    {
     "data": {
      "image/png": "[encoded data removed]",
      "text/plain": [
       "<Figure size 640x480 with 1 Axes>"
      ]
     },
     "metadata": {},
     "output_type": "display_data"
    }
   ],
   "source": [
    "sns.boxplot(X_train_normalized['Total Time'])"
   ]
  },
  {
   "cell_type": "code",
   "execution_count": 30,
   "metadata": {},
   "outputs": [
    {
     "data": {
      "text/html": [
       "<div>\n",
       "<style scoped>\n",
       "    .dataframe tbody tr th:only-of-type {\n",
       "        vertical-align: middle;\n",
       "    }\n",
       "\n",
       "    .dataframe tbody tr th {\n",
       "        vertical-align: top;\n",
       "    }\n",
       "\n",
       "    .dataframe thead th {\n",
       "        text-align: right;\n",
       "    }\n",
       "</style>\n",
       "<table border=\"1\" class=\"dataframe\">\n",
       "  <thead>\n",
       "    <tr style=\"text-align: right;\">\n",
       "      <th></th>\n",
       "      <th>Durations</th>\n",
       "      <th>Total Project</th>\n",
       "      <th>Total Time</th>\n",
       "      <th>Usia</th>\n",
       "      <th>Lama Kerja</th>\n",
       "      <th>Kualifikasi_enc</th>\n",
       "      <th>GrupResolver_enc</th>\n",
       "    </tr>\n",
       "  </thead>\n",
       "  <tbody>\n",
       "    <tr>\n",
       "      <th>2</th>\n",
       "      <td>0.009689</td>\n",
       "      <td>0.00</td>\n",
       "      <td>0.726074</td>\n",
       "      <td>0.194444</td>\n",
       "      <td>0.336283</td>\n",
       "      <td>0.5</td>\n",
       "      <td>0.285714</td>\n",
       "    </tr>\n",
       "    <tr>\n",
       "      <th>8</th>\n",
       "      <td>0.000404</td>\n",
       "      <td>0.00</td>\n",
       "      <td>0.651529</td>\n",
       "      <td>0.388889</td>\n",
       "      <td>0.634218</td>\n",
       "      <td>1.0</td>\n",
       "      <td>0.142857</td>\n",
       "    </tr>\n",
       "    <tr>\n",
       "      <th>9</th>\n",
       "      <td>0.430359</td>\n",
       "      <td>0.20</td>\n",
       "      <td>0.692207</td>\n",
       "      <td>0.000000</td>\n",
       "      <td>0.560472</td>\n",
       "      <td>0.0</td>\n",
       "      <td>0.857143</td>\n",
       "    </tr>\n",
       "    <tr>\n",
       "      <th>11</th>\n",
       "      <td>0.018167</td>\n",
       "      <td>0.04</td>\n",
       "      <td>1.000000</td>\n",
       "      <td>0.833333</td>\n",
       "      <td>0.415929</td>\n",
       "      <td>1.0</td>\n",
       "      <td>0.285714</td>\n",
       "    </tr>\n",
       "    <tr>\n",
       "      <th>30</th>\n",
       "      <td>1.000000</td>\n",
       "      <td>0.02</td>\n",
       "      <td>0.449297</td>\n",
       "      <td>0.194444</td>\n",
       "      <td>0.696165</td>\n",
       "      <td>0.5</td>\n",
       "      <td>0.285714</td>\n",
       "    </tr>\n",
       "    <tr>\n",
       "      <th>34</th>\n",
       "      <td>0.019782</td>\n",
       "      <td>0.00</td>\n",
       "      <td>0.500845</td>\n",
       "      <td>0.138889</td>\n",
       "      <td>0.002950</td>\n",
       "      <td>0.5</td>\n",
       "      <td>0.142857</td>\n",
       "    </tr>\n",
       "  </tbody>\n",
       "</table>\n",
       "</div>"
      ],
      "text/plain": [
       "    Durations  Total Project  Total Time      Usia  Lama Kerja  \\\n",
       "2    0.009689           0.00    0.726074  0.194444    0.336283   \n",
       "8    0.000404           0.00    0.651529  0.388889    0.634218   \n",
       "9    0.430359           0.20    0.692207  0.000000    0.560472   \n",
       "11   0.018167           0.04    1.000000  0.833333    0.415929   \n",
       "30   1.000000           0.02    0.449297  0.194444    0.696165   \n",
       "34   0.019782           0.00    0.500845  0.138889    0.002950   \n",
       "\n",
       "    Kualifikasi_enc  GrupResolver_enc  \n",
       "2               0.5          0.285714  \n",
       "8               1.0          0.142857  \n",
       "9               0.0          0.857143  \n",
       "11              1.0          0.285714  \n",
       "30              0.5          0.285714  \n",
       "34              0.5          0.142857  "
      ]
     },
     "execution_count": 30,
     "metadata": {},
     "output_type": "execute_result"
    }
   ],
   "source": [
    "# find the outliers of df\n",
    "X_train_normalized.loc[(X_train_normalized['Total Time'] > upper_limit) | (X_train_normalized['Total Time'] < lower_limit)]"
   ]
  },
  {
   "cell_type": "code",
   "execution_count": 31,
   "metadata": {},
   "outputs": [
    {
     "name": "stdout",
     "output_type": "stream",
     "text": [
      "before removing outliers: 36\n",
      "after removing outliers: 30\n",
      "outliers: 6\n"
     ]
    }
   ],
   "source": [
    "#trimming\n",
    "X_train_nT= X_train_normalized.loc[(X_train_normalized['Total Time'] < upper_limit) & (X_train_normalized['Total Time'] > lower_limit)]\n",
    "print('before removing outliers:', len(X_train_normalized))\n",
    "print('after removing outliers:', len(X_train_nT))\n",
    "print('outliers:', len(X_train_normalized) - len(X_train_nT))"
   ]
  },
  {
   "cell_type": "code",
   "execution_count": 32,
   "metadata": {},
   "outputs": [
    {
     "data": {
      "text/plain": [
       "<Axes: ylabel='Total Project'>"
      ]
     },
     "execution_count": 32,
     "metadata": {},
     "output_type": "execute_result"
    },
    {
     "data": {
      "image/png": "[encoded data removed]",
      "text/plain": [
       "<Figure size 640x480 with 1 Axes>"
      ]
     },
     "metadata": {},
     "output_type": "display_data"
    }
   ],
   "source": [
    "#capping: changing the outlier values to upper/lower limit values\n",
    "X_train_nP = X_train_normalized.copy()\n",
    "X_train_nP.loc[X_train_nP['Total Project'] > upper_limit, 'Total Project'] = upper_limit\n",
    "X_train_nP.loc[X_train_nP['Total Project'] < lower_limit, 'Total Project'] = lower_limit\n",
    "\n",
    "sns.boxplot(X_train_nP['Total Project'])"
   ]
  },
  {
   "cell_type": "markdown",
   "metadata": {},
   "source": [
    "## Concating the Data Outliers"
   ]
  },
  {
   "cell_type": "code",
   "execution_count": 33,
   "metadata": {},
   "outputs": [
    {
     "name": "stdout",
     "output_type": "stream",
     "text": [
      "<class 'pandas.core.frame.DataFrame'>\n",
      "RangeIndex: 36 entries, 0 to 35\n",
      "Data columns (total 7 columns):\n",
      " #   Column            Non-Null Count  Dtype  \n",
      "---  ------            --------------  -----  \n",
      " 0   Durations         36 non-null     float64\n",
      " 1   Total Project     36 non-null     float64\n",
      " 2   Total Time        36 non-null     float64\n",
      " 3   Usia              36 non-null     float64\n",
      " 4   Lama Kerja        36 non-null     float64\n",
      " 5   Kualifikasi_enc   36 non-null     float64\n",
      " 6   GrupResolver_enc  36 non-null     float64\n",
      "dtypes: float64(7)\n",
      "memory usage: 2.1 KB\n"
     ]
    }
   ],
   "source": [
    "X_train = pd.concat([X_train_normalized, X_train_nD, X_train_nP, X_train_nT], axis=1)\n",
    "X_train = X_train.loc[:, ~X_train.columns.duplicated()]\n",
    "X_train.info()"
   ]
  },
  {
   "cell_type": "code",
   "execution_count": 34,
   "metadata": {},
   "outputs": [
    {
     "data": {
      "text/html": [
       "<div>\n",
       "<style scoped>\n",
       "    .dataframe tbody tr th:only-of-type {\n",
       "        vertical-align: middle;\n",
       "    }\n",
       "\n",
       "    .dataframe tbody tr th {\n",
       "        vertical-align: top;\n",
       "    }\n",
       "\n",
       "    .dataframe thead th {\n",
       "        text-align: right;\n",
       "    }\n",
       "</style>\n",
       "<table border=\"1\" class=\"dataframe\">\n",
       "  <thead>\n",
       "    <tr style=\"text-align: right;\">\n",
       "      <th></th>\n",
       "      <th>Durations</th>\n",
       "      <th>Total Project</th>\n",
       "      <th>Total Time</th>\n",
       "      <th>Usia</th>\n",
       "      <th>Lama Kerja</th>\n",
       "      <th>Kualifikasi_enc</th>\n",
       "      <th>GrupResolver_enc</th>\n",
       "    </tr>\n",
       "  </thead>\n",
       "  <tbody>\n",
       "    <tr>\n",
       "      <th>0</th>\n",
       "      <td>0.502220</td>\n",
       "      <td>0.00</td>\n",
       "      <td>0.060051</td>\n",
       "      <td>0.055556</td>\n",
       "      <td>0.802360</td>\n",
       "      <td>0.0</td>\n",
       "      <td>1.000000</td>\n",
       "    </tr>\n",
       "    <tr>\n",
       "      <th>1</th>\n",
       "      <td>0.008074</td>\n",
       "      <td>0.08</td>\n",
       "      <td>0.018745</td>\n",
       "      <td>0.000000</td>\n",
       "      <td>0.286136</td>\n",
       "      <td>0.0</td>\n",
       "      <td>0.857143</td>\n",
       "    </tr>\n",
       "    <tr>\n",
       "      <th>2</th>\n",
       "      <td>0.009689</td>\n",
       "      <td>0.00</td>\n",
       "      <td>0.726074</td>\n",
       "      <td>0.194444</td>\n",
       "      <td>0.336283</td>\n",
       "      <td>0.5</td>\n",
       "      <td>0.285714</td>\n",
       "    </tr>\n",
       "    <tr>\n",
       "      <th>3</th>\n",
       "      <td>0.000000</td>\n",
       "      <td>0.44</td>\n",
       "      <td>0.000000</td>\n",
       "      <td>0.000000</td>\n",
       "      <td>0.616519</td>\n",
       "      <td>0.0</td>\n",
       "      <td>0.714286</td>\n",
       "    </tr>\n",
       "    <tr>\n",
       "      <th>4</th>\n",
       "      <td>0.020993</td>\n",
       "      <td>0.08</td>\n",
       "      <td>0.340644</td>\n",
       "      <td>0.055556</td>\n",
       "      <td>0.392330</td>\n",
       "      <td>0.0</td>\n",
       "      <td>0.857143</td>\n",
       "    </tr>\n",
       "  </tbody>\n",
       "</table>\n",
       "</div>"
      ],
      "text/plain": [
       "   Durations  Total Project  Total Time      Usia  Lama Kerja  \\\n",
       "0   0.502220           0.00    0.060051  0.055556    0.802360   \n",
       "1   0.008074           0.08    0.018745  0.000000    0.286136   \n",
       "2   0.009689           0.00    0.726074  0.194444    0.336283   \n",
       "3   0.000000           0.44    0.000000  0.000000    0.616519   \n",
       "4   0.020993           0.08    0.340644  0.055556    0.392330   \n",
       "\n",
       "   Kualifikasi_enc  GrupResolver_enc  \n",
       "0              0.0          1.000000  \n",
       "1              0.0          0.857143  \n",
       "2              0.5          0.285714  \n",
       "3              0.0          0.714286  \n",
       "4              0.0          0.857143  "
      ]
     },
     "execution_count": 34,
     "metadata": {},
     "output_type": "execute_result"
    }
   ],
   "source": [
    "X_train.head()"
   ]
  },
  {
   "cell_type": "markdown",
   "metadata": {},
   "source": [
    "## Model"
   ]
  },
  {
   "cell_type": "code",
   "execution_count": 34,
   "metadata": {},
   "outputs": [],
   "source": [
    "from sklearn.tree import DecisionTreeClassifier\n",
    "model = DecisionTreeClassifier(criterion='entropy')\n",
    "model = model.fit(X_train, y_train)\n"
   ]
  },
  {
   "cell_type": "markdown",
   "metadata": {},
   "source": [
    "## Setup"
   ]
  },
  {
   "cell_type": "code",
   "execution_count": 35,
   "metadata": {},
   "outputs": [],
   "source": [
    "import optuna\n",
    "from sklearn.model_selection import cross_val_score\n",
    "#model.get_params()\n",
    "\n",
    "#param_grid = {\n",
    "#    'criterion': ['gini', 'entropy'],\n",
    "#    'max_depth': [2, 4, 6, 8, 10, None],\n",
    "#    'min_samples_split': [2, 10, 20],\n",
    "#    'min_samples_leaf': [1, 5, 10],\n",
    "#    'max_features': [None, 'sqrt', 'log2'],\n",
    "#    'random_state': [None, 5, 10, 20, 42, 100],\n",
    "#    'ccp_alpha': [None, 0.0, 0.01]\n",
    "#}\n",
    "\n",
    "# def objective(trial):\n",
    "#     # Suggest values for the hyperparameters\n",
    "#     criterion = trial.suggest_categorical('criterion', ['gini', 'entropy'])\n",
    "#     max_depth = trial.suggest_int('max_depth', 2, 32, log=True)\n",
    "#     min_samples_split = trial.suggest_int('min_samples_split', 2, 20)\n",
    "#     min_samples_leaf = trial.suggest_int('min_samples_leaf', 1, 20)\n",
    "#     max_features = trial.suggest_categorical('max_features', [None, 'sqrt', 'log2'])\n",
    "# # Create the model\n",
    "#     model = DecisionTreeClassifier(\n",
    "#         criterion=criterion,\n",
    "#         max_depth=max_depth,\n",
    "#         min_samples_split=min_samples_split,\n",
    "#         min_samples_leaf=min_samples_leaf,\n",
    "#         max_features=max_features,\n",
    "#         random_state=42\n",
    "#     )\n",
    "#  # Evaluate the model using cross-validation\n",
    "#     scores = cross_val_score(model, X_train, y_train, cv=5, n_jobs=-1, scoring='accuracy')\n",
    "#     accuracy = scores.mean()\n",
    "    \n",
    "#     return accuracy\n"
   ]
  },
  {
   "cell_type": "markdown",
   "metadata": {},
   "source": [
    "# Data Eval"
   ]
  },
  {
   "cell_type": "code",
   "execution_count": 36,
   "metadata": {},
   "outputs": [],
   "source": [
    "predictions = model.predict(X_test)\n",
    "#predictions\n",
    "\n",
    "# Create a study and optimize the objective function\n",
    "#study = optuna.create_study(direction='maximize')\n",
    "#study.optimize(objective, n_trials=100)"
   ]
  },
  {
   "cell_type": "code",
   "execution_count": 37,
   "metadata": {},
   "outputs": [],
   "source": [
    "# Print the best parameters and the corresponding accuracy\n",
    "#print(\"Best parameters found: \", study.best_params)\n",
    "#print(\"Best cross-validation accuracy: \", study.best_value)"
   ]
  },
  {
   "cell_type": "code",
   "execution_count": 38,
   "metadata": {},
   "outputs": [],
   "source": [
    "# Train the best model on the full training set\n",
    "#best_model = DecisionTreeClassifier(**study.best_params, random_state=42)\n",
    "#best_model.fit(X_train, y_train)"
   ]
  },
  {
   "cell_type": "code",
   "execution_count": 39,
   "metadata": {},
   "outputs": [],
   "source": [
    "# Evaluate the model on the test set\n",
    "#test_accuracy = best_model.score(X_test, y_test)\n",
    "#print(\"Test set accuracy: \", test_accuracy)"
   ]
  },
  {
   "cell_type": "code",
   "execution_count": 40,
   "metadata": {},
   "outputs": [
    {
     "data": {
      "text/plain": [
       "array([[0., 0., 1.],\n",
       "       [0., 0., 1.],\n",
       "       [0., 0., 1.],\n",
       "       [0., 0., 1.],\n",
       "       [0., 0., 1.],\n",
       "       [0., 0., 1.],\n",
       "       [0., 0., 1.],\n",
       "       [0., 0., 1.],\n",
       "       [0., 0., 1.],\n",
       "       [0., 0., 1.]])"
      ]
     },
     "execution_count": 40,
     "metadata": {},
     "output_type": "execute_result"
    }
   ],
   "source": [
    "model.predict_proba(X_test)"
   ]
  },
  {
   "cell_type": "code",
   "execution_count": 41,
   "metadata": {},
   "outputs": [
    {
     "data": {
      "text/plain": [
       "0.3"
      ]
     },
     "execution_count": 41,
     "metadata": {},
     "output_type": "execute_result"
    }
   ],
   "source": [
    "from sklearn.metrics import accuracy_score\n",
    "accuracy_score(y_test, predictions)"
   ]
  },
  {
   "cell_type": "code",
   "execution_count": 42,
   "metadata": {},
   "outputs": [],
   "source": [
    "#from sklearn.metrics import confusion_matrix\n",
    "#confusion_matrix(y_test, predictions, labels= [0,1])"
   ]
  },
  {
   "cell_type": "code",
   "execution_count": null,
   "metadata": {},
   "outputs": [],
   "source": []
  },
  {
   "cell_type": "code",
   "execution_count": null,
   "metadata": {},
   "outputs": [],
   "source": []
  }
 ],
 "metadata": {
  "kernelspec": {
   "display_name": "Python 3",
   "language": "python",
   "name": "python3"
  },
  "language_info": {
   "codemirror_mode": {
    "name": "ipython",
    "version": 3
   },
   "file_extension": ".py",
   "mimetype": "text/x-python",
   "name": "python",
   "nbconvert_exporter": "python",
   "pygments_lexer": "ipython3",
   "version": "3.11.4"
  }
 },
 "nbformat": 4,
 "nbformat_minor": 2
}
