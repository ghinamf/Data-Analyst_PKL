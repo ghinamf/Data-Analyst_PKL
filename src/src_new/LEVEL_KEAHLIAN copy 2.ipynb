{
 "cells": [
  {
   "cell_type": "markdown",
   "metadata": {},
   "source": [
    "# Libraries"
   ]
  },
  {
   "cell_type": "code",
   "execution_count": 53,
   "metadata": {},
   "outputs": [],
   "source": [
    "import pandas as pd\n",
    "import numpy as np\n",
    "import matplotlib.pyplot as plt\n",
    "from sklearn.preprocessing import LabelEncoder, MinMaxScaler\n",
    "import seaborn as sns\n",
    "from sklearn.model_selection import train_test_split, KFold,StratifiedKFold, cross_val_score, GridSearchCV, learning_curve\n",
    "\n",
    "from sklearn.svm import SVC\n",
    "from sklearn.naive_bayes import GaussianNB\n",
    "from sklearn.ensemble import RandomForestClassifier, BaggingClassifier\n",
    "from sklearn.tree import DecisionTreeClassifier\n",
    "from sklearn import tree\n",
    "\n",
    "from sklearn.metrics import accuracy_score, classification_report, confusion_matrix, ConfusionMatrixDisplay\n",
    "from imblearn.over_sampling import RandomOverSampler\n",
    "import optuna\n",
    "\n"
   ]
  },
  {
   "cell_type": "markdown",
   "metadata": {},
   "source": [
    "# Data Understanding"
   ]
  },
  {
   "cell_type": "code",
   "execution_count": 54,
   "metadata": {},
   "outputs": [
    {
     "data": {
      "text/html": [
       "<div>\n",
       "<style scoped>\n",
       "    .dataframe tbody tr th:only-of-type {\n",
       "        vertical-align: middle;\n",
       "    }\n",
       "\n",
       "    .dataframe tbody tr th {\n",
       "        vertical-align: top;\n",
       "    }\n",
       "\n",
       "    .dataframe thead th {\n",
       "        text-align: right;\n",
       "    }\n",
       "</style>\n",
       "<table border=\"1\" class=\"dataframe\">\n",
       "  <thead>\n",
       "    <tr style=\"text-align: right;\">\n",
       "      <th></th>\n",
       "      <th>Unnamed: 0</th>\n",
       "      <th>DURATIONS_PERPROJECT</th>\n",
       "      <th>TOTAL_PROJECT</th>\n",
       "      <th>STATUS</th>\n",
       "      <th>LAMA_KERJA</th>\n",
       "      <th>DIVISI</th>\n",
       "      <th>GOL</th>\n",
       "      <th>LOKASI</th>\n",
       "      <th>LEVEL KEAHLIAN</th>\n",
       "    </tr>\n",
       "  </thead>\n",
       "  <tbody>\n",
       "    <tr>\n",
       "      <th>0</th>\n",
       "      <td>0</td>\n",
       "      <td>0.0</td>\n",
       "      <td>2.0</td>\n",
       "      <td>Kontrak</td>\n",
       "      <td>3</td>\n",
       "      <td>DSO</td>\n",
       "      <td>B1</td>\n",
       "      <td>Jakarta</td>\n",
       "      <td>Perekayasa Madya</td>\n",
       "    </tr>\n",
       "    <tr>\n",
       "      <th>1</th>\n",
       "      <td>1</td>\n",
       "      <td>7.0</td>\n",
       "      <td>6.0</td>\n",
       "      <td>Tetap</td>\n",
       "      <td>16</td>\n",
       "      <td>DSO</td>\n",
       "      <td>C3</td>\n",
       "      <td>Malang</td>\n",
       "      <td>Pimpinan Muda</td>\n",
       "    </tr>\n",
       "    <tr>\n",
       "      <th>2</th>\n",
       "      <td>4</td>\n",
       "      <td>29.0</td>\n",
       "      <td>3.0</td>\n",
       "      <td>Tetap</td>\n",
       "      <td>9</td>\n",
       "      <td>DIP</td>\n",
       "      <td>B3</td>\n",
       "      <td>Malang</td>\n",
       "      <td>Pimpinan Pemula</td>\n",
       "    </tr>\n",
       "    <tr>\n",
       "      <th>3</th>\n",
       "      <td>5</td>\n",
       "      <td>0.0</td>\n",
       "      <td>51.0</td>\n",
       "      <td>Tetap</td>\n",
       "      <td>16</td>\n",
       "      <td>DIP</td>\n",
       "      <td>C3</td>\n",
       "      <td>Malang</td>\n",
       "      <td>Pimpinan Muda</td>\n",
       "    </tr>\n",
       "    <tr>\n",
       "      <th>4</th>\n",
       "      <td>6</td>\n",
       "      <td>1066.0</td>\n",
       "      <td>11.0</td>\n",
       "      <td>Tetap</td>\n",
       "      <td>7</td>\n",
       "      <td>DSO</td>\n",
       "      <td>B3-MI</td>\n",
       "      <td>Malang Madani</td>\n",
       "      <td>Perekayasa Utama</td>\n",
       "    </tr>\n",
       "  </tbody>\n",
       "</table>\n",
       "</div>"
      ],
      "text/plain": [
       "   Unnamed: 0  DURATIONS_PERPROJECT  TOTAL_PROJECT   STATUS  LAMA_KERJA  \\\n",
       "0           0                   0.0            2.0  Kontrak           3   \n",
       "1           1                   7.0            6.0    Tetap          16   \n",
       "2           4                  29.0            3.0    Tetap           9   \n",
       "3           5                   0.0           51.0    Tetap          16   \n",
       "4           6                1066.0           11.0    Tetap           7   \n",
       "\n",
       "  DIVISI    GOL         LOKASI    LEVEL KEAHLIAN  \n",
       "0    DSO     B1        Jakarta  Perekayasa Madya  \n",
       "1    DSO     C3         Malang     Pimpinan Muda  \n",
       "2    DIP     B3         Malang   Pimpinan Pemula  \n",
       "3    DIP     C3         Malang     Pimpinan Muda  \n",
       "4    DSO  B3-MI  Malang Madani  Perekayasa Utama  "
      ]
     },
     "execution_count": 54,
     "metadata": {},
     "output_type": "execute_result"
    }
   ],
   "source": [
    "df= pd.read_csv(r\"C:\\Users\\Lenovo\\analyst_pkl\\data\\LEVEL_KEAHLIAN.csv\")\n",
    "df.head()"
   ]
  },
  {
   "cell_type": "code",
   "execution_count": 55,
   "metadata": {},
   "outputs": [
    {
     "data": {
      "text/html": [
       "<div>\n",
       "<style scoped>\n",
       "    .dataframe tbody tr th:only-of-type {\n",
       "        vertical-align: middle;\n",
       "    }\n",
       "\n",
       "    .dataframe tbody tr th {\n",
       "        vertical-align: top;\n",
       "    }\n",
       "\n",
       "    .dataframe thead th {\n",
       "        text-align: right;\n",
       "    }\n",
       "</style>\n",
       "<table border=\"1\" class=\"dataframe\">\n",
       "  <thead>\n",
       "    <tr style=\"text-align: right;\">\n",
       "      <th></th>\n",
       "      <th>DURATIONS_PERPROJECT</th>\n",
       "      <th>TOTAL_PROJECT</th>\n",
       "      <th>STATUS</th>\n",
       "      <th>LAMA_KERJA</th>\n",
       "      <th>DIVISI</th>\n",
       "      <th>GOL</th>\n",
       "      <th>LOKASI</th>\n",
       "      <th>LEVEL KEAHLIAN</th>\n",
       "    </tr>\n",
       "  </thead>\n",
       "  <tbody>\n",
       "    <tr>\n",
       "      <th>0</th>\n",
       "      <td>0.0</td>\n",
       "      <td>2.0</td>\n",
       "      <td>Kontrak</td>\n",
       "      <td>3</td>\n",
       "      <td>DSO</td>\n",
       "      <td>B1</td>\n",
       "      <td>Jakarta</td>\n",
       "      <td>Perekayasa Madya</td>\n",
       "    </tr>\n",
       "    <tr>\n",
       "      <th>1</th>\n",
       "      <td>7.0</td>\n",
       "      <td>6.0</td>\n",
       "      <td>Tetap</td>\n",
       "      <td>16</td>\n",
       "      <td>DSO</td>\n",
       "      <td>C3</td>\n",
       "      <td>Malang</td>\n",
       "      <td>Pimpinan Muda</td>\n",
       "    </tr>\n",
       "    <tr>\n",
       "      <th>2</th>\n",
       "      <td>29.0</td>\n",
       "      <td>3.0</td>\n",
       "      <td>Tetap</td>\n",
       "      <td>9</td>\n",
       "      <td>DIP</td>\n",
       "      <td>B3</td>\n",
       "      <td>Malang</td>\n",
       "      <td>Pimpinan Pemula</td>\n",
       "    </tr>\n",
       "    <tr>\n",
       "      <th>3</th>\n",
       "      <td>0.0</td>\n",
       "      <td>51.0</td>\n",
       "      <td>Tetap</td>\n",
       "      <td>16</td>\n",
       "      <td>DIP</td>\n",
       "      <td>C3</td>\n",
       "      <td>Malang</td>\n",
       "      <td>Pimpinan Muda</td>\n",
       "    </tr>\n",
       "    <tr>\n",
       "      <th>4</th>\n",
       "      <td>1066.0</td>\n",
       "      <td>11.0</td>\n",
       "      <td>Tetap</td>\n",
       "      <td>7</td>\n",
       "      <td>DSO</td>\n",
       "      <td>B3-MI</td>\n",
       "      <td>Malang Madani</td>\n",
       "      <td>Perekayasa Utama</td>\n",
       "    </tr>\n",
       "  </tbody>\n",
       "</table>\n",
       "</div>"
      ],
      "text/plain": [
       "   DURATIONS_PERPROJECT  TOTAL_PROJECT   STATUS  LAMA_KERJA DIVISI    GOL  \\\n",
       "0                   0.0            2.0  Kontrak           3    DSO     B1   \n",
       "1                   7.0            6.0    Tetap          16    DSO     C3   \n",
       "2                  29.0            3.0    Tetap           9    DIP     B3   \n",
       "3                   0.0           51.0    Tetap          16    DIP     C3   \n",
       "4                1066.0           11.0    Tetap           7    DSO  B3-MI   \n",
       "\n",
       "          LOKASI    LEVEL KEAHLIAN  \n",
       "0        Jakarta  Perekayasa Madya  \n",
       "1         Malang     Pimpinan Muda  \n",
       "2         Malang   Pimpinan Pemula  \n",
       "3         Malang     Pimpinan Muda  \n",
       "4  Malang Madani  Perekayasa Utama  "
      ]
     },
     "execution_count": 55,
     "metadata": {},
     "output_type": "execute_result"
    }
   ],
   "source": [
    "df = df.drop(columns=['Unnamed: 0'])\n",
    "df.head()"
   ]
  },
  {
   "cell_type": "code",
   "execution_count": 56,
   "metadata": {},
   "outputs": [
    {
     "data": {
      "text/html": [
       "<div>\n",
       "<style scoped>\n",
       "    .dataframe tbody tr th:only-of-type {\n",
       "        vertical-align: middle;\n",
       "    }\n",
       "\n",
       "    .dataframe tbody tr th {\n",
       "        vertical-align: top;\n",
       "    }\n",
       "\n",
       "    .dataframe thead th {\n",
       "        text-align: right;\n",
       "    }\n",
       "</style>\n",
       "<table border=\"1\" class=\"dataframe\">\n",
       "  <thead>\n",
       "    <tr style=\"text-align: right;\">\n",
       "      <th></th>\n",
       "      <th>DURATIONS_PERPROJECT</th>\n",
       "      <th>TOTAL_PROJECT</th>\n",
       "      <th>STATUS</th>\n",
       "      <th>LAMA_KERJA</th>\n",
       "      <th>DIVISI</th>\n",
       "      <th>GOL</th>\n",
       "      <th>LOKASI</th>\n",
       "      <th>LEVEL KEAHLIAN</th>\n",
       "    </tr>\n",
       "  </thead>\n",
       "  <tbody>\n",
       "    <tr>\n",
       "      <th>0</th>\n",
       "      <td>0.0</td>\n",
       "      <td>2.0</td>\n",
       "      <td>Kontrak</td>\n",
       "      <td>3</td>\n",
       "      <td>DSO</td>\n",
       "      <td>B1</td>\n",
       "      <td>Jakarta</td>\n",
       "      <td>Perekayasa Madya</td>\n",
       "    </tr>\n",
       "    <tr>\n",
       "      <th>1</th>\n",
       "      <td>7.0</td>\n",
       "      <td>6.0</td>\n",
       "      <td>Tetap</td>\n",
       "      <td>16</td>\n",
       "      <td>DSO</td>\n",
       "      <td>C3</td>\n",
       "      <td>Malang</td>\n",
       "      <td>Pimpinan Muda</td>\n",
       "    </tr>\n",
       "    <tr>\n",
       "      <th>2</th>\n",
       "      <td>29.0</td>\n",
       "      <td>3.0</td>\n",
       "      <td>Tetap</td>\n",
       "      <td>9</td>\n",
       "      <td>DIP</td>\n",
       "      <td>B3</td>\n",
       "      <td>Malang</td>\n",
       "      <td>Pimpinan Pemula</td>\n",
       "    </tr>\n",
       "    <tr>\n",
       "      <th>3</th>\n",
       "      <td>0.0</td>\n",
       "      <td>51.0</td>\n",
       "      <td>Tetap</td>\n",
       "      <td>16</td>\n",
       "      <td>DIP</td>\n",
       "      <td>C3</td>\n",
       "      <td>Malang</td>\n",
       "      <td>Pimpinan Muda</td>\n",
       "    </tr>\n",
       "    <tr>\n",
       "      <th>4</th>\n",
       "      <td>1066.0</td>\n",
       "      <td>11.0</td>\n",
       "      <td>Tetap</td>\n",
       "      <td>7</td>\n",
       "      <td>DSO</td>\n",
       "      <td>B3-MI</td>\n",
       "      <td>Malang Madani</td>\n",
       "      <td>Perekayasa Utama</td>\n",
       "    </tr>\n",
       "    <tr>\n",
       "      <th>5</th>\n",
       "      <td>17.0</td>\n",
       "      <td>1.0</td>\n",
       "      <td>Tetap</td>\n",
       "      <td>11</td>\n",
       "      <td>DIP</td>\n",
       "      <td>B3</td>\n",
       "      <td>Malang</td>\n",
       "      <td>Pimpinan Pemula</td>\n",
       "    </tr>\n",
       "    <tr>\n",
       "      <th>6</th>\n",
       "      <td>0.0</td>\n",
       "      <td>6.0</td>\n",
       "      <td>Tetap</td>\n",
       "      <td>8</td>\n",
       "      <td>DSO</td>\n",
       "      <td>A3</td>\n",
       "      <td>Jakarta</td>\n",
       "      <td>Perekayasa Utama</td>\n",
       "    </tr>\n",
       "    <tr>\n",
       "      <th>7</th>\n",
       "      <td>3.0</td>\n",
       "      <td>9.0</td>\n",
       "      <td>Tetap</td>\n",
       "      <td>15</td>\n",
       "      <td>DIP</td>\n",
       "      <td>B4</td>\n",
       "      <td>Malang</td>\n",
       "      <td>Pimpinan Pemula</td>\n",
       "    </tr>\n",
       "    <tr>\n",
       "      <th>8</th>\n",
       "      <td>757.0</td>\n",
       "      <td>2.0</td>\n",
       "      <td>Tetap</td>\n",
       "      <td>14</td>\n",
       "      <td>DBM</td>\n",
       "      <td>B3</td>\n",
       "      <td>Jakarta</td>\n",
       "      <td>Perekayasa Utama</td>\n",
       "    </tr>\n",
       "    <tr>\n",
       "      <th>9</th>\n",
       "      <td>6.0</td>\n",
       "      <td>9.0</td>\n",
       "      <td>Tetap</td>\n",
       "      <td>8</td>\n",
       "      <td>DSO</td>\n",
       "      <td>B2-MI</td>\n",
       "      <td>Malang Madani</td>\n",
       "      <td>Perekayasa Muda</td>\n",
       "    </tr>\n",
       "    <tr>\n",
       "      <th>10</th>\n",
       "      <td>1.0</td>\n",
       "      <td>1.0</td>\n",
       "      <td>Tetap</td>\n",
       "      <td>4</td>\n",
       "      <td>DBM</td>\n",
       "      <td>C1</td>\n",
       "      <td>Jakarta</td>\n",
       "      <td>Pelaksana Utama</td>\n",
       "    </tr>\n",
       "    <tr>\n",
       "      <th>11</th>\n",
       "      <td>0.0</td>\n",
       "      <td>1.0</td>\n",
       "      <td>Tetap</td>\n",
       "      <td>9</td>\n",
       "      <td>DBM</td>\n",
       "      <td>B3</td>\n",
       "      <td>Malang</td>\n",
       "      <td>Perekayasa Utama</td>\n",
       "    </tr>\n",
       "    <tr>\n",
       "      <th>12</th>\n",
       "      <td>24.0</td>\n",
       "      <td>1.0</td>\n",
       "      <td>Tetap</td>\n",
       "      <td>7</td>\n",
       "      <td>DBM</td>\n",
       "      <td>B3</td>\n",
       "      <td>Malang</td>\n",
       "      <td>Pimpinan Pemula</td>\n",
       "    </tr>\n",
       "    <tr>\n",
       "      <th>13</th>\n",
       "      <td>1.0</td>\n",
       "      <td>2.0</td>\n",
       "      <td>Tetap</td>\n",
       "      <td>4</td>\n",
       "      <td>DSO</td>\n",
       "      <td>B2-MI</td>\n",
       "      <td>Malang Madani</td>\n",
       "      <td>Perekayasa Madya</td>\n",
       "    </tr>\n",
       "    <tr>\n",
       "      <th>14</th>\n",
       "      <td>49.0</td>\n",
       "      <td>1.0</td>\n",
       "      <td>Tetap</td>\n",
       "      <td>8</td>\n",
       "      <td>DBM</td>\n",
       "      <td>C2</td>\n",
       "      <td>Jakarta</td>\n",
       "      <td>Pelaksana Madya</td>\n",
       "    </tr>\n",
       "    <tr>\n",
       "      <th>15</th>\n",
       "      <td>0.0</td>\n",
       "      <td>1.0</td>\n",
       "      <td>Tetap</td>\n",
       "      <td>6</td>\n",
       "      <td>DBM</td>\n",
       "      <td>B2</td>\n",
       "      <td>Jakarta</td>\n",
       "      <td>Perekayasa Utama</td>\n",
       "    </tr>\n",
       "    <tr>\n",
       "      <th>16</th>\n",
       "      <td>1121.0</td>\n",
       "      <td>1.0</td>\n",
       "      <td>Tetap</td>\n",
       "      <td>15</td>\n",
       "      <td>DIP</td>\n",
       "      <td>F2</td>\n",
       "      <td>Malang</td>\n",
       "      <td>Pimpinan Utama</td>\n",
       "    </tr>\n",
       "    <tr>\n",
       "      <th>17</th>\n",
       "      <td>1.0</td>\n",
       "      <td>17.0</td>\n",
       "      <td>Tetap</td>\n",
       "      <td>4</td>\n",
       "      <td>DIP</td>\n",
       "      <td>B2-MI</td>\n",
       "      <td>Malang Madani</td>\n",
       "      <td>Perekayasa Madya</td>\n",
       "    </tr>\n",
       "    <tr>\n",
       "      <th>18</th>\n",
       "      <td>20.0</td>\n",
       "      <td>5.0</td>\n",
       "      <td>Tetap</td>\n",
       "      <td>16</td>\n",
       "      <td>DSO</td>\n",
       "      <td>C3</td>\n",
       "      <td>Jakarta</td>\n",
       "      <td>Pimpinan Pemula</td>\n",
       "    </tr>\n",
       "    <tr>\n",
       "      <th>19</th>\n",
       "      <td>2477.0</td>\n",
       "      <td>2.0</td>\n",
       "      <td>Tetap</td>\n",
       "      <td>11</td>\n",
       "      <td>DBM</td>\n",
       "      <td>B3</td>\n",
       "      <td>Malang</td>\n",
       "      <td>Pimpinan Pemula</td>\n",
       "    </tr>\n",
       "    <tr>\n",
       "      <th>20</th>\n",
       "      <td>0.0</td>\n",
       "      <td>2.0</td>\n",
       "      <td>Tetap</td>\n",
       "      <td>16</td>\n",
       "      <td>DMS</td>\n",
       "      <td>C3</td>\n",
       "      <td>Malang</td>\n",
       "      <td>Pimpinan Muda</td>\n",
       "    </tr>\n",
       "    <tr>\n",
       "      <th>21</th>\n",
       "      <td>5.0</td>\n",
       "      <td>10.0</td>\n",
       "      <td>Tetap</td>\n",
       "      <td>8</td>\n",
       "      <td>DSO</td>\n",
       "      <td>B3</td>\n",
       "      <td>Malang</td>\n",
       "      <td>Perekayasa Utama</td>\n",
       "    </tr>\n",
       "    <tr>\n",
       "      <th>22</th>\n",
       "      <td>52.0</td>\n",
       "      <td>5.0</td>\n",
       "      <td>Tetap</td>\n",
       "      <td>11</td>\n",
       "      <td>DSO</td>\n",
       "      <td>B3</td>\n",
       "      <td>Malang</td>\n",
       "      <td>Pimpinan Pemula</td>\n",
       "    </tr>\n",
       "    <tr>\n",
       "      <th>23</th>\n",
       "      <td>0.0</td>\n",
       "      <td>35.0</td>\n",
       "      <td>Tetap</td>\n",
       "      <td>5</td>\n",
       "      <td>DLA</td>\n",
       "      <td>B2-MI</td>\n",
       "      <td>Malang Madani</td>\n",
       "      <td>Perekayasa Utama</td>\n",
       "    </tr>\n",
       "    <tr>\n",
       "      <th>24</th>\n",
       "      <td>117.0</td>\n",
       "      <td>1.0</td>\n",
       "      <td>Tetap</td>\n",
       "      <td>16</td>\n",
       "      <td>DAK</td>\n",
       "      <td>B1</td>\n",
       "      <td>Jakarta</td>\n",
       "      <td>Pelaksana Pemula</td>\n",
       "    </tr>\n",
       "    <tr>\n",
       "      <th>25</th>\n",
       "      <td>7.0</td>\n",
       "      <td>4.0</td>\n",
       "      <td>Tetap</td>\n",
       "      <td>4</td>\n",
       "      <td>DIP</td>\n",
       "      <td>B2-MI</td>\n",
       "      <td>Malang Madani</td>\n",
       "      <td>Perekayasa Madya</td>\n",
       "    </tr>\n",
       "    <tr>\n",
       "      <th>26</th>\n",
       "      <td>0.0</td>\n",
       "      <td>48.0</td>\n",
       "      <td>Tetap</td>\n",
       "      <td>14</td>\n",
       "      <td>DIP</td>\n",
       "      <td>B4</td>\n",
       "      <td>Malang</td>\n",
       "      <td>Pimpinan Pemula</td>\n",
       "    </tr>\n",
       "    <tr>\n",
       "      <th>27</th>\n",
       "      <td>1.0</td>\n",
       "      <td>27.0</td>\n",
       "      <td>Kontrak</td>\n",
       "      <td>1</td>\n",
       "      <td>DIP</td>\n",
       "      <td>B1-MI</td>\n",
       "      <td>Malang Madani</td>\n",
       "      <td>Perekayasa Magang</td>\n",
       "    </tr>\n",
       "    <tr>\n",
       "      <th>28</th>\n",
       "      <td>45.0</td>\n",
       "      <td>3.0</td>\n",
       "      <td>Kontrak</td>\n",
       "      <td>3</td>\n",
       "      <td>DBM</td>\n",
       "      <td>B1-MI</td>\n",
       "      <td>Malang Madani</td>\n",
       "      <td>Perekayasa Muda</td>\n",
       "    </tr>\n",
       "    <tr>\n",
       "      <th>29</th>\n",
       "      <td>0.0</td>\n",
       "      <td>3.0</td>\n",
       "      <td>Kontrak</td>\n",
       "      <td>1</td>\n",
       "      <td>DIP</td>\n",
       "      <td>B1-MI</td>\n",
       "      <td>Malang Madani</td>\n",
       "      <td>Perekayasa Magang</td>\n",
       "    </tr>\n",
       "    <tr>\n",
       "      <th>30</th>\n",
       "      <td>0.0</td>\n",
       "      <td>25.0</td>\n",
       "      <td>Tetap</td>\n",
       "      <td>16</td>\n",
       "      <td>DMS</td>\n",
       "      <td>C3</td>\n",
       "      <td>Malang</td>\n",
       "      <td>Pimpinan Madya</td>\n",
       "    </tr>\n",
       "    <tr>\n",
       "      <th>31</th>\n",
       "      <td>7.0</td>\n",
       "      <td>7.0</td>\n",
       "      <td>Tetap</td>\n",
       "      <td>6</td>\n",
       "      <td>DSO</td>\n",
       "      <td>B1</td>\n",
       "      <td>Jakarta</td>\n",
       "      <td>Perekayasa Utama</td>\n",
       "    </tr>\n",
       "    <tr>\n",
       "      <th>32</th>\n",
       "      <td>0.0</td>\n",
       "      <td>41.0</td>\n",
       "      <td>Tetap</td>\n",
       "      <td>4</td>\n",
       "      <td>DMS</td>\n",
       "      <td>B2-MI</td>\n",
       "      <td>Malang Madani</td>\n",
       "      <td>Perekayasa Utama</td>\n",
       "    </tr>\n",
       "    <tr>\n",
       "      <th>33</th>\n",
       "      <td>23.0</td>\n",
       "      <td>28.0</td>\n",
       "      <td>Tetap</td>\n",
       "      <td>4</td>\n",
       "      <td>DLA</td>\n",
       "      <td>B2-MI</td>\n",
       "      <td>Malang Madani</td>\n",
       "      <td>Perekayasa Madya</td>\n",
       "    </tr>\n",
       "    <tr>\n",
       "      <th>34</th>\n",
       "      <td>1.0</td>\n",
       "      <td>18.0</td>\n",
       "      <td>Kontrak</td>\n",
       "      <td>1</td>\n",
       "      <td>DLA</td>\n",
       "      <td>B1-MI</td>\n",
       "      <td>Malang Madani</td>\n",
       "      <td>Perekayasa Magang</td>\n",
       "    </tr>\n",
       "    <tr>\n",
       "      <th>35</th>\n",
       "      <td>0.0</td>\n",
       "      <td>12.0</td>\n",
       "      <td>Tetap</td>\n",
       "      <td>15</td>\n",
       "      <td>DLA</td>\n",
       "      <td>B4</td>\n",
       "      <td>Malang</td>\n",
       "      <td>Pimpinan Muda</td>\n",
       "    </tr>\n",
       "    <tr>\n",
       "      <th>36</th>\n",
       "      <td>3.0</td>\n",
       "      <td>3.0</td>\n",
       "      <td>Tetap</td>\n",
       "      <td>16</td>\n",
       "      <td>DBM</td>\n",
       "      <td>B3</td>\n",
       "      <td>Jakarta</td>\n",
       "      <td>Pimpinan Pemula</td>\n",
       "    </tr>\n",
       "    <tr>\n",
       "      <th>37</th>\n",
       "      <td>0.0</td>\n",
       "      <td>23.0</td>\n",
       "      <td>Tetap</td>\n",
       "      <td>4</td>\n",
       "      <td>DMS</td>\n",
       "      <td>B2-MI</td>\n",
       "      <td>Malang Madani</td>\n",
       "      <td>Perekayasa Utama</td>\n",
       "    </tr>\n",
       "    <tr>\n",
       "      <th>38</th>\n",
       "      <td>1.0</td>\n",
       "      <td>20.0</td>\n",
       "      <td>Tetap</td>\n",
       "      <td>5</td>\n",
       "      <td>DIP</td>\n",
       "      <td>B2-MI</td>\n",
       "      <td>Malang Madani</td>\n",
       "      <td>Perekayasa Madya</td>\n",
       "    </tr>\n",
       "    <tr>\n",
       "      <th>39</th>\n",
       "      <td>0.0</td>\n",
       "      <td>11.0</td>\n",
       "      <td>Tetap</td>\n",
       "      <td>16</td>\n",
       "      <td>DIP</td>\n",
       "      <td>C3</td>\n",
       "      <td>Malang</td>\n",
       "      <td>Pimpinan Muda</td>\n",
       "    </tr>\n",
       "  </tbody>\n",
       "</table>\n",
       "</div>"
      ],
      "text/plain": [
       "    DURATIONS_PERPROJECT  TOTAL_PROJECT   STATUS  LAMA_KERJA DIVISI    GOL  \\\n",
       "0                    0.0            2.0  Kontrak           3    DSO     B1   \n",
       "1                    7.0            6.0    Tetap          16    DSO     C3   \n",
       "2                   29.0            3.0    Tetap           9    DIP     B3   \n",
       "3                    0.0           51.0    Tetap          16    DIP     C3   \n",
       "4                 1066.0           11.0    Tetap           7    DSO  B3-MI   \n",
       "5                   17.0            1.0    Tetap          11    DIP     B3   \n",
       "6                    0.0            6.0    Tetap           8    DSO     A3   \n",
       "7                    3.0            9.0    Tetap          15    DIP     B4   \n",
       "8                  757.0            2.0    Tetap          14    DBM     B3   \n",
       "9                    6.0            9.0    Tetap           8    DSO  B2-MI   \n",
       "10                   1.0            1.0    Tetap           4    DBM     C1   \n",
       "11                   0.0            1.0    Tetap           9    DBM     B3   \n",
       "12                  24.0            1.0    Tetap           7    DBM     B3   \n",
       "13                   1.0            2.0    Tetap           4    DSO  B2-MI   \n",
       "14                  49.0            1.0    Tetap           8    DBM     C2   \n",
       "15                   0.0            1.0    Tetap           6    DBM     B2   \n",
       "16                1121.0            1.0    Tetap          15    DIP     F2   \n",
       "17                   1.0           17.0    Tetap           4    DIP  B2-MI   \n",
       "18                  20.0            5.0    Tetap          16    DSO     C3   \n",
       "19                2477.0            2.0    Tetap          11    DBM     B3   \n",
       "20                   0.0            2.0    Tetap          16    DMS     C3   \n",
       "21                   5.0           10.0    Tetap           8    DSO     B3   \n",
       "22                  52.0            5.0    Tetap          11    DSO     B3   \n",
       "23                   0.0           35.0    Tetap           5    DLA  B2-MI   \n",
       "24                 117.0            1.0    Tetap          16    DAK     B1   \n",
       "25                   7.0            4.0    Tetap           4    DIP  B2-MI   \n",
       "26                   0.0           48.0    Tetap          14    DIP     B4   \n",
       "27                   1.0           27.0  Kontrak           1    DIP  B1-MI   \n",
       "28                  45.0            3.0  Kontrak           3    DBM  B1-MI   \n",
       "29                   0.0            3.0  Kontrak           1    DIP  B1-MI   \n",
       "30                   0.0           25.0    Tetap          16    DMS     C3   \n",
       "31                   7.0            7.0    Tetap           6    DSO     B1   \n",
       "32                   0.0           41.0    Tetap           4    DMS  B2-MI   \n",
       "33                  23.0           28.0    Tetap           4    DLA  B2-MI   \n",
       "34                   1.0           18.0  Kontrak           1    DLA  B1-MI   \n",
       "35                   0.0           12.0    Tetap          15    DLA     B4   \n",
       "36                   3.0            3.0    Tetap          16    DBM     B3   \n",
       "37                   0.0           23.0    Tetap           4    DMS  B2-MI   \n",
       "38                   1.0           20.0    Tetap           5    DIP  B2-MI   \n",
       "39                   0.0           11.0    Tetap          16    DIP     C3   \n",
       "\n",
       "           LOKASI     LEVEL KEAHLIAN  \n",
       "0         Jakarta   Perekayasa Madya  \n",
       "1          Malang      Pimpinan Muda  \n",
       "2          Malang    Pimpinan Pemula  \n",
       "3          Malang      Pimpinan Muda  \n",
       "4   Malang Madani   Perekayasa Utama  \n",
       "5          Malang    Pimpinan Pemula  \n",
       "6         Jakarta   Perekayasa Utama  \n",
       "7          Malang    Pimpinan Pemula  \n",
       "8         Jakarta   Perekayasa Utama  \n",
       "9   Malang Madani    Perekayasa Muda  \n",
       "10        Jakarta    Pelaksana Utama  \n",
       "11         Malang   Perekayasa Utama  \n",
       "12         Malang    Pimpinan Pemula  \n",
       "13  Malang Madani   Perekayasa Madya  \n",
       "14        Jakarta    Pelaksana Madya  \n",
       "15        Jakarta   Perekayasa Utama  \n",
       "16         Malang     Pimpinan Utama  \n",
       "17  Malang Madani   Perekayasa Madya  \n",
       "18        Jakarta    Pimpinan Pemula  \n",
       "19         Malang    Pimpinan Pemula  \n",
       "20         Malang      Pimpinan Muda  \n",
       "21         Malang   Perekayasa Utama  \n",
       "22         Malang    Pimpinan Pemula  \n",
       "23  Malang Madani   Perekayasa Utama  \n",
       "24        Jakarta   Pelaksana Pemula  \n",
       "25  Malang Madani   Perekayasa Madya  \n",
       "26         Malang    Pimpinan Pemula  \n",
       "27  Malang Madani  Perekayasa Magang  \n",
       "28  Malang Madani    Perekayasa Muda  \n",
       "29  Malang Madani  Perekayasa Magang  \n",
       "30         Malang     Pimpinan Madya  \n",
       "31        Jakarta   Perekayasa Utama  \n",
       "32  Malang Madani   Perekayasa Utama  \n",
       "33  Malang Madani   Perekayasa Madya  \n",
       "34  Malang Madani  Perekayasa Magang  \n",
       "35         Malang      Pimpinan Muda  \n",
       "36        Jakarta    Pimpinan Pemula  \n",
       "37  Malang Madani   Perekayasa Utama  \n",
       "38  Malang Madani   Perekayasa Madya  \n",
       "39         Malang      Pimpinan Muda  "
      ]
     },
     "execution_count": 56,
     "metadata": {},
     "output_type": "execute_result"
    }
   ],
   "source": [
    "df"
   ]
  },
  {
   "cell_type": "markdown",
   "metadata": {},
   "source": [
    "# Data Prep"
   ]
  },
  {
   "cell_type": "code",
   "execution_count": 57,
   "metadata": {},
   "outputs": [
    {
     "name": "stdout",
     "output_type": "stream",
     "text": [
      "<class 'pandas.core.frame.DataFrame'>\n",
      "RangeIndex: 40 entries, 0 to 39\n",
      "Data columns (total 8 columns):\n",
      " #   Column                Non-Null Count  Dtype  \n",
      "---  ------                --------------  -----  \n",
      " 0   DURATIONS_PERPROJECT  40 non-null     float64\n",
      " 1   TOTAL_PROJECT         40 non-null     float64\n",
      " 2   STATUS                40 non-null     object \n",
      " 3   LAMA_KERJA            40 non-null     int64  \n",
      " 4   DIVISI                40 non-null     object \n",
      " 5   GOL                   40 non-null     object \n",
      " 6   LOKASI                40 non-null     object \n",
      " 7   LEVEL KEAHLIAN        40 non-null     object \n",
      "dtypes: float64(2), int64(1), object(5)\n",
      "memory usage: 2.6+ KB\n"
     ]
    }
   ],
   "source": [
    "df.info()"
   ]
  },
  {
   "cell_type": "code",
   "execution_count": 58,
   "metadata": {},
   "outputs": [],
   "source": [
    "df= df.drop(['LOKASI'], axis=1)"
   ]
  },
  {
   "cell_type": "markdown",
   "metadata": {},
   "source": [
    "## Categorical Data"
   ]
  },
  {
   "cell_type": "code",
   "execution_count": 59,
   "metadata": {},
   "outputs": [],
   "source": [
    "#objt(str) to category\n",
    "df['STATUS'] = df['STATUS'].astype('category')\n",
    "df['DIVISI'] = df['DIVISI'].astype('category')\n",
    "df['GOL'] = df['GOL'].astype('category')\n",
    "#df['LOKASI'] = df['LOKASI'].astype('category')"
   ]
  },
  {
   "cell_type": "code",
   "execution_count": 60,
   "metadata": {},
   "outputs": [],
   "source": [
    "categorical_cols = ['STATUS', 'DIVISI', 'GOL']\n",
    "label_encoders = {}\n",
    "for col in categorical_cols:\n",
    "    le = LabelEncoder()\n",
    "    df[col] = le.fit_transform(df[col])\n",
    "    label_encoders[col] = le"
   ]
  },
  {
   "cell_type": "code",
   "execution_count": 61,
   "metadata": {},
   "outputs": [
    {
     "data": {
      "text/plain": [
       "STATUS\n",
       "1    35\n",
       "0     5\n",
       "Name: count, dtype: int64"
      ]
     },
     "execution_count": 61,
     "metadata": {},
     "output_type": "execute_result"
    }
   ],
   "source": [
    "df['STATUS'].value_counts()"
   ]
  },
  {
   "cell_type": "code",
   "execution_count": 62,
   "metadata": {},
   "outputs": [],
   "source": [
    "# categorical_columns = ['STATUS', 'DIVISI', 'GOL']\n",
    "# for col in categorical_columns:\n",
    "#     encoder = LabelEncoder()\n",
    "#     df[col] = encoder.fit_transform(df[col])"
   ]
  },
  {
   "cell_type": "code",
   "execution_count": 63,
   "metadata": {},
   "outputs": [],
   "source": [
    "# def get_feature_mapping(df, feature_name):\n",
    "#      encoder = LabelEncoder()\n",
    "#      df[feature_name] = encoder.fit_transform(df[feature_name])\n",
    "#      return dict(zip(encoder.transform(encoder.classes_), encoder.classes_))\n",
    "# mapping_status = get_feature_mapping(df, 'STATUS')\n",
    "# mapping_divisi = get_feature_mapping(df, 'DIVISI')\n",
    "# mapping_gol = get_feature_mapping(df, 'GOL')"
   ]
  },
  {
   "cell_type": "code",
   "execution_count": 64,
   "metadata": {},
   "outputs": [],
   "source": [
    "# encoder_status, mapping_status = get_feature_mapping(df, 'STATUS')\n",
    "# encoder_divisi, mapping_divisi = get_feature_mapping(df, 'DIVISI')\n",
    "# encoder_gol, mapping_gol = get_feature_mapping(df, 'GOL')"
   ]
  },
  {
   "cell_type": "code",
   "execution_count": 65,
   "metadata": {},
   "outputs": [],
   "source": [
    "# # Encoding target variable 'LEVEL_KEAHLIAN'\n",
    "# encoder_level_keahlian = LabelEncoder()\n",
    "# df['LEVEL_KEAHLIAN'] = encoder_level_keahlian.fit_transform(df['LEVEL KEAHLIAN'])\n",
    "# mapping_LK = get_feature_mapping(df, 'LEVEL KEAHLIAN')"
   ]
  },
  {
   "cell_type": "code",
   "execution_count": 66,
   "metadata": {},
   "outputs": [],
   "source": [
    "# print(f\"Mapping Divisi:\\n{mapping_divisi}\\n\\nMapping Gol:\\n{mapping_gol}\\n\\nMapping Status:\\n{mapping_status}\")\n"
   ]
  },
  {
   "cell_type": "code",
   "execution_count": 67,
   "metadata": {},
   "outputs": [
    {
     "data": {
      "text/html": [
       "<div>\n",
       "<style scoped>\n",
       "    .dataframe tbody tr th:only-of-type {\n",
       "        vertical-align: middle;\n",
       "    }\n",
       "\n",
       "    .dataframe tbody tr th {\n",
       "        vertical-align: top;\n",
       "    }\n",
       "\n",
       "    .dataframe thead th {\n",
       "        text-align: right;\n",
       "    }\n",
       "</style>\n",
       "<table border=\"1\" class=\"dataframe\">\n",
       "  <thead>\n",
       "    <tr style=\"text-align: right;\">\n",
       "      <th></th>\n",
       "      <th>DURATIONS_PERPROJECT</th>\n",
       "      <th>TOTAL_PROJECT</th>\n",
       "      <th>STATUS</th>\n",
       "      <th>LAMA_KERJA</th>\n",
       "      <th>DIVISI</th>\n",
       "      <th>GOL</th>\n",
       "      <th>LEVEL KEAHLIAN</th>\n",
       "    </tr>\n",
       "  </thead>\n",
       "  <tbody>\n",
       "    <tr>\n",
       "      <th>0</th>\n",
       "      <td>0.0</td>\n",
       "      <td>2.0</td>\n",
       "      <td>0</td>\n",
       "      <td>3</td>\n",
       "      <td>5</td>\n",
       "      <td>1</td>\n",
       "      <td>Perekayasa Madya</td>\n",
       "    </tr>\n",
       "    <tr>\n",
       "      <th>1</th>\n",
       "      <td>7.0</td>\n",
       "      <td>6.0</td>\n",
       "      <td>1</td>\n",
       "      <td>16</td>\n",
       "      <td>5</td>\n",
       "      <td>10</td>\n",
       "      <td>Pimpinan Muda</td>\n",
       "    </tr>\n",
       "    <tr>\n",
       "      <th>2</th>\n",
       "      <td>29.0</td>\n",
       "      <td>3.0</td>\n",
       "      <td>1</td>\n",
       "      <td>9</td>\n",
       "      <td>2</td>\n",
       "      <td>5</td>\n",
       "      <td>Pimpinan Pemula</td>\n",
       "    </tr>\n",
       "    <tr>\n",
       "      <th>3</th>\n",
       "      <td>0.0</td>\n",
       "      <td>51.0</td>\n",
       "      <td>1</td>\n",
       "      <td>16</td>\n",
       "      <td>2</td>\n",
       "      <td>10</td>\n",
       "      <td>Pimpinan Muda</td>\n",
       "    </tr>\n",
       "    <tr>\n",
       "      <th>4</th>\n",
       "      <td>1066.0</td>\n",
       "      <td>11.0</td>\n",
       "      <td>1</td>\n",
       "      <td>7</td>\n",
       "      <td>5</td>\n",
       "      <td>6</td>\n",
       "      <td>Perekayasa Utama</td>\n",
       "    </tr>\n",
       "  </tbody>\n",
       "</table>\n",
       "</div>"
      ],
      "text/plain": [
       "   DURATIONS_PERPROJECT  TOTAL_PROJECT  STATUS  LAMA_KERJA  DIVISI  GOL  \\\n",
       "0                   0.0            2.0       0           3       5    1   \n",
       "1                   7.0            6.0       1          16       5   10   \n",
       "2                  29.0            3.0       1           9       2    5   \n",
       "3                   0.0           51.0       1          16       2   10   \n",
       "4                1066.0           11.0       1           7       5    6   \n",
       "\n",
       "     LEVEL KEAHLIAN  \n",
       "0  Perekayasa Madya  \n",
       "1     Pimpinan Muda  \n",
       "2   Pimpinan Pemula  \n",
       "3     Pimpinan Muda  \n",
       "4  Perekayasa Utama  "
      ]
     },
     "execution_count": 67,
     "metadata": {},
     "output_type": "execute_result"
    }
   ],
   "source": [
    "df.head()"
   ]
  },
  {
   "cell_type": "markdown",
   "metadata": {},
   "source": [
    "## Numerical data"
   ]
  },
  {
   "cell_type": "code",
   "execution_count": 68,
   "metadata": {},
   "outputs": [],
   "source": [
    "#seperating numerical data\n",
    "dfn= df[['DURATIONS_PERPROJECT', 'TOTAL_PROJECT', 'LAMA_KERJA']]"
   ]
  },
  {
   "cell_type": "code",
   "execution_count": 69,
   "metadata": {},
   "outputs": [
    {
     "data": {
      "text/html": [
       "<div>\n",
       "<style scoped>\n",
       "    .dataframe tbody tr th:only-of-type {\n",
       "        vertical-align: middle;\n",
       "    }\n",
       "\n",
       "    .dataframe tbody tr th {\n",
       "        vertical-align: top;\n",
       "    }\n",
       "\n",
       "    .dataframe thead th {\n",
       "        text-align: right;\n",
       "    }\n",
       "</style>\n",
       "<table border=\"1\" class=\"dataframe\">\n",
       "  <thead>\n",
       "    <tr style=\"text-align: right;\">\n",
       "      <th></th>\n",
       "      <th>DURATIONS_PERPROJECT</th>\n",
       "      <th>TOTAL_PROJECT</th>\n",
       "      <th>LAMA_KERJA</th>\n",
       "    </tr>\n",
       "  </thead>\n",
       "  <tbody>\n",
       "    <tr>\n",
       "      <th>0</th>\n",
       "      <td>0.0</td>\n",
       "      <td>2.0</td>\n",
       "      <td>3</td>\n",
       "    </tr>\n",
       "    <tr>\n",
       "      <th>1</th>\n",
       "      <td>7.0</td>\n",
       "      <td>6.0</td>\n",
       "      <td>16</td>\n",
       "    </tr>\n",
       "    <tr>\n",
       "      <th>2</th>\n",
       "      <td>29.0</td>\n",
       "      <td>3.0</td>\n",
       "      <td>9</td>\n",
       "    </tr>\n",
       "    <tr>\n",
       "      <th>3</th>\n",
       "      <td>0.0</td>\n",
       "      <td>51.0</td>\n",
       "      <td>16</td>\n",
       "    </tr>\n",
       "    <tr>\n",
       "      <th>4</th>\n",
       "      <td>1066.0</td>\n",
       "      <td>11.0</td>\n",
       "      <td>7</td>\n",
       "    </tr>\n",
       "  </tbody>\n",
       "</table>\n",
       "</div>"
      ],
      "text/plain": [
       "   DURATIONS_PERPROJECT  TOTAL_PROJECT  LAMA_KERJA\n",
       "0                   0.0            2.0           3\n",
       "1                   7.0            6.0          16\n",
       "2                  29.0            3.0           9\n",
       "3                   0.0           51.0          16\n",
       "4                1066.0           11.0           7"
      ]
     },
     "execution_count": 69,
     "metadata": {},
     "output_type": "execute_result"
    }
   ],
   "source": [
    "dfn.head()"
   ]
  },
  {
   "cell_type": "code",
   "execution_count": 70,
   "metadata": {},
   "outputs": [
    {
     "data": {
      "text/html": [
       "<div>\n",
       "<style scoped>\n",
       "    .dataframe tbody tr th:only-of-type {\n",
       "        vertical-align: middle;\n",
       "    }\n",
       "\n",
       "    .dataframe tbody tr th {\n",
       "        vertical-align: top;\n",
       "    }\n",
       "\n",
       "    .dataframe thead th {\n",
       "        text-align: right;\n",
       "    }\n",
       "</style>\n",
       "<table border=\"1\" class=\"dataframe\">\n",
       "  <thead>\n",
       "    <tr style=\"text-align: right;\">\n",
       "      <th></th>\n",
       "      <th>DURATIONS_PERPROJECT</th>\n",
       "      <th>TOTAL_PROJECT</th>\n",
       "      <th>LAMA_KERJA</th>\n",
       "    </tr>\n",
       "  </thead>\n",
       "  <tbody>\n",
       "    <tr>\n",
       "      <th>0</th>\n",
       "      <td>0.00</td>\n",
       "      <td>0.02</td>\n",
       "      <td>0.13</td>\n",
       "    </tr>\n",
       "    <tr>\n",
       "      <th>1</th>\n",
       "      <td>0.00</td>\n",
       "      <td>0.10</td>\n",
       "      <td>1.00</td>\n",
       "    </tr>\n",
       "    <tr>\n",
       "      <th>2</th>\n",
       "      <td>0.01</td>\n",
       "      <td>0.04</td>\n",
       "      <td>0.53</td>\n",
       "    </tr>\n",
       "    <tr>\n",
       "      <th>3</th>\n",
       "      <td>0.00</td>\n",
       "      <td>1.00</td>\n",
       "      <td>1.00</td>\n",
       "    </tr>\n",
       "    <tr>\n",
       "      <th>4</th>\n",
       "      <td>0.43</td>\n",
       "      <td>0.20</td>\n",
       "      <td>0.40</td>\n",
       "    </tr>\n",
       "  </tbody>\n",
       "</table>\n",
       "</div>"
      ],
      "text/plain": [
       "   DURATIONS_PERPROJECT  TOTAL_PROJECT  LAMA_KERJA\n",
       "0                  0.00           0.02        0.13\n",
       "1                  0.00           0.10        1.00\n",
       "2                  0.01           0.04        0.53\n",
       "3                  0.00           1.00        1.00\n",
       "4                  0.43           0.20        0.40"
      ]
     },
     "execution_count": 70,
     "metadata": {},
     "output_type": "execute_result"
    }
   ],
   "source": [
    "#X_train normalization\n",
    "scaler = MinMaxScaler()\n",
    "normalized = scaler.fit_transform(dfn)\n",
    "normalized = pd.DataFrame(normalized, columns=['DURATIONS_PERPROJECT', 'TOTAL_PROJECT', 'LAMA_KERJA'])\n",
    "normalized = normalized.round(2)\n",
    "normalized.head()"
   ]
  },
  {
   "cell_type": "code",
   "execution_count": 71,
   "metadata": {},
   "outputs": [
    {
     "data": {
      "image/png": "[encoded data removed]",
      "text/plain": [
       "<Figure size 640x480 with 1 Axes>"
      ]
     },
     "metadata": {},
     "output_type": "display_data"
    }
   ],
   "source": [
    "#displaying outliers\n",
    "sns.boxplot(normalized)\n",
    "plt.title(\"Outlier Check\", size = 17)\n",
    "plt.xticks(rotation = 90)\n",
    "plt.show()"
   ]
  },
  {
   "cell_type": "markdown",
   "metadata": {},
   "source": [
    "### DURATIONS_PERPROJECT"
   ]
  },
  {
   "cell_type": "code",
   "execution_count": 72,
   "metadata": {},
   "outputs": [
    {
     "data": {
      "text/html": [
       "<div>\n",
       "<style scoped>\n",
       "    .dataframe tbody tr th:only-of-type {\n",
       "        vertical-align: middle;\n",
       "    }\n",
       "\n",
       "    .dataframe tbody tr th {\n",
       "        vertical-align: top;\n",
       "    }\n",
       "\n",
       "    .dataframe thead th {\n",
       "        text-align: right;\n",
       "    }\n",
       "</style>\n",
       "<table border=\"1\" class=\"dataframe\">\n",
       "  <thead>\n",
       "    <tr style=\"text-align: right;\">\n",
       "      <th></th>\n",
       "      <th>DURATIONS_PERPROJECT</th>\n",
       "      <th>TOTAL_PROJECT</th>\n",
       "      <th>LAMA_KERJA</th>\n",
       "    </tr>\n",
       "  </thead>\n",
       "  <tbody>\n",
       "    <tr>\n",
       "      <th>4</th>\n",
       "      <td>0.43</td>\n",
       "      <td>0.20</td>\n",
       "      <td>0.40</td>\n",
       "    </tr>\n",
       "    <tr>\n",
       "      <th>8</th>\n",
       "      <td>0.31</td>\n",
       "      <td>0.02</td>\n",
       "      <td>0.87</td>\n",
       "    </tr>\n",
       "    <tr>\n",
       "      <th>16</th>\n",
       "      <td>0.45</td>\n",
       "      <td>0.00</td>\n",
       "      <td>0.93</td>\n",
       "    </tr>\n",
       "    <tr>\n",
       "      <th>19</th>\n",
       "      <td>1.00</td>\n",
       "      <td>0.02</td>\n",
       "      <td>0.67</td>\n",
       "    </tr>\n",
       "    <tr>\n",
       "      <th>24</th>\n",
       "      <td>0.05</td>\n",
       "      <td>0.00</td>\n",
       "      <td>1.00</td>\n",
       "    </tr>\n",
       "  </tbody>\n",
       "</table>\n",
       "</div>"
      ],
      "text/plain": [
       "    DURATIONS_PERPROJECT  TOTAL_PROJECT  LAMA_KERJA\n",
       "4                   0.43           0.20        0.40\n",
       "8                   0.31           0.02        0.87\n",
       "16                  0.45           0.00        0.93\n",
       "19                  1.00           0.02        0.67\n",
       "24                  0.05           0.00        1.00"
      ]
     },
     "execution_count": 72,
     "metadata": {},
     "output_type": "execute_result"
    }
   ],
   "source": [
    "q1= normalized['DURATIONS_PERPROJECT'].quantile(0.25)\n",
    "q3= normalized['DURATIONS_PERPROJECT'].quantile(0.75)\n",
    "iqr= q3-q1\n",
    "\n",
    "upper_limit= q3 + (1.5 * iqr)\n",
    "lower_limit= q3 - (1.5 * iqr)\n",
    "\n",
    "# find the outliers of df\n",
    "normalized.loc[(normalized['DURATIONS_PERPROJECT'] > upper_limit) | (normalized['DURATIONS_PERPROJECT'] < lower_limit)]"
   ]
  },
  {
   "cell_type": "code",
   "execution_count": 73,
   "metadata": {},
   "outputs": [
    {
     "name": "stdout",
     "output_type": "stream",
     "text": [
      "before removing outliers: 40\n",
      "after removing outliers: 35\n",
      "outliers: 5\n"
     ]
    }
   ],
   "source": [
    "#trimming\n",
    "dfn_D= normalized.loc[(normalized['DURATIONS_PERPROJECT'] < upper_limit) & (normalized['DURATIONS_PERPROJECT'] > lower_limit)]\n",
    "print('before removing outliers:', len(normalized))\n",
    "print('after removing outliers:', len(dfn_D))\n",
    "print('outliers:', len(normalized) - len(dfn_D))"
   ]
  },
  {
   "cell_type": "code",
   "execution_count": 74,
   "metadata": {},
   "outputs": [
    {
     "data": {
      "text/plain": [
       "<Axes: ylabel='DURATIONS_PERPROJECT'>"
      ]
     },
     "execution_count": 74,
     "metadata": {},
     "output_type": "execute_result"
    },
    {
     "data": {
      "image/png": "[encoded data removed]",
      "text/plain": [
       "<Figure size 640x480 with 1 Axes>"
      ]
     },
     "metadata": {},
     "output_type": "display_data"
    }
   ],
   "source": [
    "#capping: changing the outlier values to upper/lower limit values\n",
    "dfn_D = normalized.copy()\n",
    "dfn_D.loc[dfn_D['DURATIONS_PERPROJECT'] > upper_limit, 'DURATIONS_PERPROJECT'] = upper_limit\n",
    "dfn_D.loc[dfn_D['DURATIONS_PERPROJECT'] < lower_limit, 'DURATIONS_PERPROJECT'] = lower_limit\n",
    "sns.boxplot(dfn_D['DURATIONS_PERPROJECT'])"
   ]
  },
  {
   "cell_type": "code",
   "execution_count": 75,
   "metadata": {},
   "outputs": [
    {
     "data": {
      "text/html": [
       "<div>\n",
       "<style scoped>\n",
       "    .dataframe tbody tr th:only-of-type {\n",
       "        vertical-align: middle;\n",
       "    }\n",
       "\n",
       "    .dataframe tbody tr th {\n",
       "        vertical-align: top;\n",
       "    }\n",
       "\n",
       "    .dataframe thead th {\n",
       "        text-align: right;\n",
       "    }\n",
       "</style>\n",
       "<table border=\"1\" class=\"dataframe\">\n",
       "  <thead>\n",
       "    <tr style=\"text-align: right;\">\n",
       "      <th></th>\n",
       "      <th>DURATIONS_PERPROJECT</th>\n",
       "    </tr>\n",
       "  </thead>\n",
       "  <tbody>\n",
       "    <tr>\n",
       "      <th>0</th>\n",
       "      <td>0.00</td>\n",
       "    </tr>\n",
       "    <tr>\n",
       "      <th>1</th>\n",
       "      <td>0.00</td>\n",
       "    </tr>\n",
       "    <tr>\n",
       "      <th>2</th>\n",
       "      <td>0.01</td>\n",
       "    </tr>\n",
       "    <tr>\n",
       "      <th>3</th>\n",
       "      <td>0.00</td>\n",
       "    </tr>\n",
       "    <tr>\n",
       "      <th>4</th>\n",
       "      <td>0.02</td>\n",
       "    </tr>\n",
       "  </tbody>\n",
       "</table>\n",
       "</div>"
      ],
      "text/plain": [
       "   DURATIONS_PERPROJECT\n",
       "0                  0.00\n",
       "1                  0.00\n",
       "2                  0.01\n",
       "3                  0.00\n",
       "4                  0.02"
      ]
     },
     "execution_count": 75,
     "metadata": {},
     "output_type": "execute_result"
    }
   ],
   "source": [
    "dfn_D= dfn_D.drop(['TOTAL_PROJECT', 'LAMA_KERJA'], axis=1)\n",
    "dfn_D.head().round(2)"
   ]
  },
  {
   "cell_type": "markdown",
   "metadata": {},
   "source": [
    "### TOTAL_PROJECT"
   ]
  },
  {
   "cell_type": "code",
   "execution_count": 76,
   "metadata": {},
   "outputs": [
    {
     "data": {
      "text/html": [
       "<div>\n",
       "<style scoped>\n",
       "    .dataframe tbody tr th:only-of-type {\n",
       "        vertical-align: middle;\n",
       "    }\n",
       "\n",
       "    .dataframe tbody tr th {\n",
       "        vertical-align: top;\n",
       "    }\n",
       "\n",
       "    .dataframe thead th {\n",
       "        text-align: right;\n",
       "    }\n",
       "</style>\n",
       "<table border=\"1\" class=\"dataframe\">\n",
       "  <thead>\n",
       "    <tr style=\"text-align: right;\">\n",
       "      <th></th>\n",
       "      <th>DURATIONS_PERPROJECT</th>\n",
       "      <th>TOTAL_PROJECT</th>\n",
       "      <th>LAMA_KERJA</th>\n",
       "    </tr>\n",
       "  </thead>\n",
       "  <tbody>\n",
       "    <tr>\n",
       "      <th>3</th>\n",
       "      <td>0.0</td>\n",
       "      <td>1.00</td>\n",
       "      <td>1.00</td>\n",
       "    </tr>\n",
       "    <tr>\n",
       "      <th>26</th>\n",
       "      <td>0.0</td>\n",
       "      <td>0.94</td>\n",
       "      <td>0.87</td>\n",
       "    </tr>\n",
       "    <tr>\n",
       "      <th>32</th>\n",
       "      <td>0.0</td>\n",
       "      <td>0.80</td>\n",
       "      <td>0.20</td>\n",
       "    </tr>\n",
       "  </tbody>\n",
       "</table>\n",
       "</div>"
      ],
      "text/plain": [
       "    DURATIONS_PERPROJECT  TOTAL_PROJECT  LAMA_KERJA\n",
       "3                    0.0           1.00        1.00\n",
       "26                   0.0           0.94        0.87\n",
       "32                   0.0           0.80        0.20"
      ]
     },
     "execution_count": 76,
     "metadata": {},
     "output_type": "execute_result"
    }
   ],
   "source": [
    "#handling outliers w IQR [TOTAL_PROJECT]\n",
    "q1= normalized['TOTAL_PROJECT'].quantile(0.25)\n",
    "q3= normalized['TOTAL_PROJECT'].quantile(0.75)\n",
    "iqr= q3-q1\n",
    "\n",
    "upper_limit= q3 + (1.5 * iqr)\n",
    "lower_limit= q3 - (1.5 * iqr)\n",
    "\n",
    "# find the outliers of df\n",
    "normalized.loc[(normalized['TOTAL_PROJECT'] > upper_limit) | (normalized['TOTAL_PROJECT'] < lower_limit)]"
   ]
  },
  {
   "cell_type": "code",
   "execution_count": 77,
   "metadata": {},
   "outputs": [
    {
     "name": "stdout",
     "output_type": "stream",
     "text": [
      "before removing outliers: 40\n",
      "after removing outliers: 37\n",
      "outliers: 3\n"
     ]
    }
   ],
   "source": [
    "#trimming\n",
    "dfn_P= normalized.loc[(normalized['TOTAL_PROJECT'] < upper_limit) & (normalized['TOTAL_PROJECT'] > lower_limit)]\n",
    "print('before removing outliers:', len(normalized))\n",
    "print('after removing outliers:', len(dfn_P))\n",
    "print('outliers:', len(normalized) - len(dfn_P))"
   ]
  },
  {
   "cell_type": "code",
   "execution_count": 78,
   "metadata": {},
   "outputs": [
    {
     "data": {
      "text/plain": [
       "<Axes: ylabel='TOTAL_PROJECT'>"
      ]
     },
     "execution_count": 78,
     "metadata": {},
     "output_type": "execute_result"
    },
    {
     "data": {
      "image/png": "[encoded data removed]",
      "text/plain": [
       "<Figure size 640x480 with 1 Axes>"
      ]
     },
     "metadata": {},
     "output_type": "display_data"
    }
   ],
   "source": [
    "#capping: changing the outlier values to upper/lower limit values\n",
    "dfn_P = normalized.copy()\n",
    "dfn_P.loc[dfn_P['TOTAL_PROJECT'] > upper_limit, 'TOTAL_PROJECT'] = upper_limit\n",
    "dfn_P.loc[dfn_P['TOTAL_PROJECT'] < lower_limit, 'TOTAL_PROJECT'] = lower_limit\n",
    "sns.boxplot(dfn_P['TOTAL_PROJECT'])"
   ]
  },
  {
   "cell_type": "code",
   "execution_count": 79,
   "metadata": {},
   "outputs": [
    {
     "data": {
      "text/html": [
       "<div>\n",
       "<style scoped>\n",
       "    .dataframe tbody tr th:only-of-type {\n",
       "        vertical-align: middle;\n",
       "    }\n",
       "\n",
       "    .dataframe tbody tr th {\n",
       "        vertical-align: top;\n",
       "    }\n",
       "\n",
       "    .dataframe thead th {\n",
       "        text-align: right;\n",
       "    }\n",
       "</style>\n",
       "<table border=\"1\" class=\"dataframe\">\n",
       "  <thead>\n",
       "    <tr style=\"text-align: right;\">\n",
       "      <th></th>\n",
       "      <th>TOTAL_PROJECT</th>\n",
       "    </tr>\n",
       "  </thead>\n",
       "  <tbody>\n",
       "    <tr>\n",
       "      <th>0</th>\n",
       "      <td>0.02</td>\n",
       "    </tr>\n",
       "    <tr>\n",
       "      <th>1</th>\n",
       "      <td>0.10</td>\n",
       "    </tr>\n",
       "    <tr>\n",
       "      <th>2</th>\n",
       "      <td>0.04</td>\n",
       "    </tr>\n",
       "    <tr>\n",
       "      <th>3</th>\n",
       "      <td>0.78</td>\n",
       "    </tr>\n",
       "    <tr>\n",
       "      <th>4</th>\n",
       "      <td>0.20</td>\n",
       "    </tr>\n",
       "  </tbody>\n",
       "</table>\n",
       "</div>"
      ],
      "text/plain": [
       "   TOTAL_PROJECT\n",
       "0           0.02\n",
       "1           0.10\n",
       "2           0.04\n",
       "3           0.78\n",
       "4           0.20"
      ]
     },
     "execution_count": 79,
     "metadata": {},
     "output_type": "execute_result"
    }
   ],
   "source": [
    "dfn_P= dfn_P.drop(['DURATIONS_PERPROJECT', 'LAMA_KERJA'], axis=1)\n",
    "dfn_P.head().round(2)"
   ]
  },
  {
   "cell_type": "markdown",
   "metadata": {},
   "source": [
    "## Concating to dfn"
   ]
  },
  {
   "cell_type": "code",
   "execution_count": 80,
   "metadata": {},
   "outputs": [],
   "source": [
    "normalized= normalized.drop(['DURATIONS_PERPROJECT', 'TOTAL_PROJECT'], axis=1)"
   ]
  },
  {
   "cell_type": "code",
   "execution_count": 81,
   "metadata": {},
   "outputs": [
    {
     "data": {
      "text/html": [
       "<div>\n",
       "<style scoped>\n",
       "    .dataframe tbody tr th:only-of-type {\n",
       "        vertical-align: middle;\n",
       "    }\n",
       "\n",
       "    .dataframe tbody tr th {\n",
       "        vertical-align: top;\n",
       "    }\n",
       "\n",
       "    .dataframe thead th {\n",
       "        text-align: right;\n",
       "    }\n",
       "</style>\n",
       "<table border=\"1\" class=\"dataframe\">\n",
       "  <thead>\n",
       "    <tr style=\"text-align: right;\">\n",
       "      <th></th>\n",
       "      <th>DURATIONS_PERPROJECT</th>\n",
       "      <th>TOTAL_PROJECT</th>\n",
       "      <th>LAMA_KERJA</th>\n",
       "    </tr>\n",
       "  </thead>\n",
       "  <tbody>\n",
       "    <tr>\n",
       "      <th>0</th>\n",
       "      <td>0.0</td>\n",
       "      <td>2.0</td>\n",
       "      <td>3</td>\n",
       "    </tr>\n",
       "    <tr>\n",
       "      <th>1</th>\n",
       "      <td>7.0</td>\n",
       "      <td>6.0</td>\n",
       "      <td>16</td>\n",
       "    </tr>\n",
       "    <tr>\n",
       "      <th>2</th>\n",
       "      <td>29.0</td>\n",
       "      <td>3.0</td>\n",
       "      <td>9</td>\n",
       "    </tr>\n",
       "    <tr>\n",
       "      <th>3</th>\n",
       "      <td>0.0</td>\n",
       "      <td>51.0</td>\n",
       "      <td>16</td>\n",
       "    </tr>\n",
       "    <tr>\n",
       "      <th>4</th>\n",
       "      <td>1066.0</td>\n",
       "      <td>11.0</td>\n",
       "      <td>7</td>\n",
       "    </tr>\n",
       "  </tbody>\n",
       "</table>\n",
       "</div>"
      ],
      "text/plain": [
       "   DURATIONS_PERPROJECT  TOTAL_PROJECT  LAMA_KERJA\n",
       "0                   0.0            2.0           3\n",
       "1                   7.0            6.0          16\n",
       "2                  29.0            3.0           9\n",
       "3                   0.0           51.0          16\n",
       "4                1066.0           11.0           7"
      ]
     },
     "execution_count": 81,
     "metadata": {},
     "output_type": "execute_result"
    }
   ],
   "source": [
    "dfn.head()"
   ]
  },
  {
   "cell_type": "code",
   "execution_count": 82,
   "metadata": {},
   "outputs": [],
   "source": [
    "#reuniting them to X_train\n",
    "dfn_new = pd.concat([dfn_D, dfn_P, normalized], axis=1)"
   ]
  },
  {
   "cell_type": "code",
   "execution_count": 83,
   "metadata": {},
   "outputs": [
    {
     "data": {
      "text/html": [
       "<div>\n",
       "<style scoped>\n",
       "    .dataframe tbody tr th:only-of-type {\n",
       "        vertical-align: middle;\n",
       "    }\n",
       "\n",
       "    .dataframe tbody tr th {\n",
       "        vertical-align: top;\n",
       "    }\n",
       "\n",
       "    .dataframe thead th {\n",
       "        text-align: right;\n",
       "    }\n",
       "</style>\n",
       "<table border=\"1\" class=\"dataframe\">\n",
       "  <thead>\n",
       "    <tr style=\"text-align: right;\">\n",
       "      <th></th>\n",
       "      <th>DURATIONS_PERPROJECT</th>\n",
       "      <th>TOTAL_PROJECT</th>\n",
       "      <th>LAMA_KERJA</th>\n",
       "    </tr>\n",
       "  </thead>\n",
       "  <tbody>\n",
       "    <tr>\n",
       "      <th>0</th>\n",
       "      <td>0.000</td>\n",
       "      <td>0.0200</td>\n",
       "      <td>0.13</td>\n",
       "    </tr>\n",
       "    <tr>\n",
       "      <th>1</th>\n",
       "      <td>0.000</td>\n",
       "      <td>0.1000</td>\n",
       "      <td>1.00</td>\n",
       "    </tr>\n",
       "    <tr>\n",
       "      <th>2</th>\n",
       "      <td>0.010</td>\n",
       "      <td>0.0400</td>\n",
       "      <td>0.53</td>\n",
       "    </tr>\n",
       "    <tr>\n",
       "      <th>3</th>\n",
       "      <td>0.000</td>\n",
       "      <td>0.7825</td>\n",
       "      <td>1.00</td>\n",
       "    </tr>\n",
       "    <tr>\n",
       "      <th>4</th>\n",
       "      <td>0.025</td>\n",
       "      <td>0.2000</td>\n",
       "      <td>0.40</td>\n",
       "    </tr>\n",
       "  </tbody>\n",
       "</table>\n",
       "</div>"
      ],
      "text/plain": [
       "   DURATIONS_PERPROJECT  TOTAL_PROJECT  LAMA_KERJA\n",
       "0                 0.000         0.0200        0.13\n",
       "1                 0.000         0.1000        1.00\n",
       "2                 0.010         0.0400        0.53\n",
       "3                 0.000         0.7825        1.00\n",
       "4                 0.025         0.2000        0.40"
      ]
     },
     "execution_count": 83,
     "metadata": {},
     "output_type": "execute_result"
    }
   ],
   "source": [
    "dfn_new.head()"
   ]
  },
  {
   "cell_type": "code",
   "execution_count": 84,
   "metadata": {},
   "outputs": [],
   "source": [
    "dfn_new=dfn_new.copy()"
   ]
  },
  {
   "cell_type": "code",
   "execution_count": 85,
   "metadata": {},
   "outputs": [],
   "source": [
    "df= df.drop(['DURATIONS_PERPROJECT', 'TOTAL_PROJECT', 'LAMA_KERJA'], axis=1)"
   ]
  },
  {
   "cell_type": "code",
   "execution_count": 86,
   "metadata": {},
   "outputs": [
    {
     "name": "stdout",
     "output_type": "stream",
     "text": [
      "RangeIndex(start=0, stop=40, step=1)\n",
      "RangeIndex(start=0, stop=40, step=1)\n"
     ]
    }
   ],
   "source": [
    "#combining the final X_train\n",
    "\n",
    "#checking the indices\n",
    "print(dfn_new.index)\n",
    "print(df.index)"
   ]
  },
  {
   "cell_type": "code",
   "execution_count": 87,
   "metadata": {},
   "outputs": [],
   "source": [
    "#reset indices\n",
    "dfn_new = dfn_new.reset_index(drop=True)\n",
    "df = df.reset_index(drop=True)"
   ]
  },
  {
   "cell_type": "code",
   "execution_count": 88,
   "metadata": {},
   "outputs": [],
   "source": [
    "#concating\n",
    "df = pd.concat([dfn_new, df], axis=1)"
   ]
  },
  {
   "cell_type": "code",
   "execution_count": 89,
   "metadata": {},
   "outputs": [
    {
     "data": {
      "text/html": [
       "<div>\n",
       "<style scoped>\n",
       "    .dataframe tbody tr th:only-of-type {\n",
       "        vertical-align: middle;\n",
       "    }\n",
       "\n",
       "    .dataframe tbody tr th {\n",
       "        vertical-align: top;\n",
       "    }\n",
       "\n",
       "    .dataframe thead th {\n",
       "        text-align: right;\n",
       "    }\n",
       "</style>\n",
       "<table border=\"1\" class=\"dataframe\">\n",
       "  <thead>\n",
       "    <tr style=\"text-align: right;\">\n",
       "      <th></th>\n",
       "      <th>DURATIONS_PERPROJECT</th>\n",
       "      <th>TOTAL_PROJECT</th>\n",
       "      <th>LAMA_KERJA</th>\n",
       "      <th>STATUS</th>\n",
       "      <th>DIVISI</th>\n",
       "      <th>GOL</th>\n",
       "      <th>LEVEL KEAHLIAN</th>\n",
       "    </tr>\n",
       "  </thead>\n",
       "  <tbody>\n",
       "    <tr>\n",
       "      <th>0</th>\n",
       "      <td>0.000</td>\n",
       "      <td>0.0200</td>\n",
       "      <td>0.13</td>\n",
       "      <td>0</td>\n",
       "      <td>5</td>\n",
       "      <td>1</td>\n",
       "      <td>Perekayasa Madya</td>\n",
       "    </tr>\n",
       "    <tr>\n",
       "      <th>1</th>\n",
       "      <td>0.000</td>\n",
       "      <td>0.1000</td>\n",
       "      <td>1.00</td>\n",
       "      <td>1</td>\n",
       "      <td>5</td>\n",
       "      <td>10</td>\n",
       "      <td>Pimpinan Muda</td>\n",
       "    </tr>\n",
       "    <tr>\n",
       "      <th>2</th>\n",
       "      <td>0.010</td>\n",
       "      <td>0.0400</td>\n",
       "      <td>0.53</td>\n",
       "      <td>1</td>\n",
       "      <td>2</td>\n",
       "      <td>5</td>\n",
       "      <td>Pimpinan Pemula</td>\n",
       "    </tr>\n",
       "    <tr>\n",
       "      <th>3</th>\n",
       "      <td>0.000</td>\n",
       "      <td>0.7825</td>\n",
       "      <td>1.00</td>\n",
       "      <td>1</td>\n",
       "      <td>2</td>\n",
       "      <td>10</td>\n",
       "      <td>Pimpinan Muda</td>\n",
       "    </tr>\n",
       "    <tr>\n",
       "      <th>4</th>\n",
       "      <td>0.025</td>\n",
       "      <td>0.2000</td>\n",
       "      <td>0.40</td>\n",
       "      <td>1</td>\n",
       "      <td>5</td>\n",
       "      <td>6</td>\n",
       "      <td>Perekayasa Utama</td>\n",
       "    </tr>\n",
       "  </tbody>\n",
       "</table>\n",
       "</div>"
      ],
      "text/plain": [
       "   DURATIONS_PERPROJECT  TOTAL_PROJECT  LAMA_KERJA  STATUS  DIVISI  GOL  \\\n",
       "0                 0.000         0.0200        0.13       0       5    1   \n",
       "1                 0.000         0.1000        1.00       1       5   10   \n",
       "2                 0.010         0.0400        0.53       1       2    5   \n",
       "3                 0.000         0.7825        1.00       1       2   10   \n",
       "4                 0.025         0.2000        0.40       1       5    6   \n",
       "\n",
       "     LEVEL KEAHLIAN  \n",
       "0  Perekayasa Madya  \n",
       "1     Pimpinan Muda  \n",
       "2   Pimpinan Pemula  \n",
       "3     Pimpinan Muda  \n",
       "4  Perekayasa Utama  "
      ]
     },
     "execution_count": 89,
     "metadata": {},
     "output_type": "execute_result"
    }
   ],
   "source": [
    "df.head()"
   ]
  },
  {
   "cell_type": "markdown",
   "metadata": {},
   "source": [
    "# Data Modelling & Evaluations"
   ]
  },
  {
   "cell_type": "markdown",
   "metadata": {},
   "source": [
    "## Feature Selection"
   ]
  },
  {
   "cell_type": "code",
   "execution_count": 90,
   "metadata": {},
   "outputs": [],
   "source": [
    "#data feature selection\n",
    "X= df.drop(['LEVEL KEAHLIAN'], axis=1)\n",
    "y= df['LEVEL KEAHLIAN']"
   ]
  },
  {
   "cell_type": "code",
   "execution_count": 91,
   "metadata": {},
   "outputs": [
    {
     "data": {
      "text/html": [
       "<div>\n",
       "<style scoped>\n",
       "    .dataframe tbody tr th:only-of-type {\n",
       "        vertical-align: middle;\n",
       "    }\n",
       "\n",
       "    .dataframe tbody tr th {\n",
       "        vertical-align: top;\n",
       "    }\n",
       "\n",
       "    .dataframe thead th {\n",
       "        text-align: right;\n",
       "    }\n",
       "</style>\n",
       "<table border=\"1\" class=\"dataframe\">\n",
       "  <thead>\n",
       "    <tr style=\"text-align: right;\">\n",
       "      <th></th>\n",
       "      <th>DURATIONS_PERPROJECT</th>\n",
       "      <th>TOTAL_PROJECT</th>\n",
       "      <th>LAMA_KERJA</th>\n",
       "      <th>STATUS</th>\n",
       "      <th>DIVISI</th>\n",
       "      <th>GOL</th>\n",
       "    </tr>\n",
       "  </thead>\n",
       "  <tbody>\n",
       "    <tr>\n",
       "      <th>0</th>\n",
       "      <td>0.000</td>\n",
       "      <td>0.0200</td>\n",
       "      <td>0.13</td>\n",
       "      <td>0</td>\n",
       "      <td>5</td>\n",
       "      <td>1</td>\n",
       "    </tr>\n",
       "    <tr>\n",
       "      <th>1</th>\n",
       "      <td>0.000</td>\n",
       "      <td>0.1000</td>\n",
       "      <td>1.00</td>\n",
       "      <td>1</td>\n",
       "      <td>5</td>\n",
       "      <td>10</td>\n",
       "    </tr>\n",
       "    <tr>\n",
       "      <th>2</th>\n",
       "      <td>0.010</td>\n",
       "      <td>0.0400</td>\n",
       "      <td>0.53</td>\n",
       "      <td>1</td>\n",
       "      <td>2</td>\n",
       "      <td>5</td>\n",
       "    </tr>\n",
       "    <tr>\n",
       "      <th>3</th>\n",
       "      <td>0.000</td>\n",
       "      <td>0.7825</td>\n",
       "      <td>1.00</td>\n",
       "      <td>1</td>\n",
       "      <td>2</td>\n",
       "      <td>10</td>\n",
       "    </tr>\n",
       "    <tr>\n",
       "      <th>4</th>\n",
       "      <td>0.025</td>\n",
       "      <td>0.2000</td>\n",
       "      <td>0.40</td>\n",
       "      <td>1</td>\n",
       "      <td>5</td>\n",
       "      <td>6</td>\n",
       "    </tr>\n",
       "  </tbody>\n",
       "</table>\n",
       "</div>"
      ],
      "text/plain": [
       "   DURATIONS_PERPROJECT  TOTAL_PROJECT  LAMA_KERJA  STATUS  DIVISI  GOL\n",
       "0                 0.000         0.0200        0.13       0       5    1\n",
       "1                 0.000         0.1000        1.00       1       5   10\n",
       "2                 0.010         0.0400        0.53       1       2    5\n",
       "3                 0.000         0.7825        1.00       1       2   10\n",
       "4                 0.025         0.2000        0.40       1       5    6"
      ]
     },
     "execution_count": 91,
     "metadata": {},
     "output_type": "execute_result"
    }
   ],
   "source": [
    "X.head()"
   ]
  },
  {
   "cell_type": "markdown",
   "metadata": {},
   "source": [
    "## Train Test Split"
   ]
  },
  {
   "cell_type": "code",
   "execution_count": 92,
   "metadata": {},
   "outputs": [],
   "source": [
    "#train test split\n",
    "X_train, X_test, y_train, y_test = train_test_split(X, y, test_size=0.2, random_state=100)"
   ]
  },
  {
   "cell_type": "markdown",
   "metadata": {},
   "source": [
    "## KFold & Tunning"
   ]
  },
  {
   "cell_type": "markdown",
   "metadata": {},
   "source": [
    "the differences of KFold and StratifiedKFold\n",
    "KFold\n",
    "1. **Cara Kerja**: Membagi dataset secara acak menjadi k-fold. Setiap fold digunakan sebagai data testing sekali, sedangkan sisanya sebagai data training.\n",
    "2. **Kekurangan**: Tidak menjamin distribusi kelas yang sama pada setiap fold, terutama jika dataset tidak seimbang. Hal ini bisa menyebabkan bias dalam evaluasi model.\n",
    "\n",
    "StratifiedKFold\n",
    "1. **Cara Kerja**: Membagi dataset menjadi k-fold, tetapi memastikan bahwa proporsi kelas dalam setiap fold sama dengan proporsi kelas dalam dataset keseluruhan.\n",
    "2. **Keuntungan**: Menjaga distribusi kelas yang seimbang pada setiap fold, sehingga evaluasi model lebih 3. representatif. Sangat berguna untuk dataset yang tidak seimbang.\n",
    "3. **Kekurangan**: Membutuhkan informasi tentang kelas target."
   ]
  },
  {
   "cell_type": "code",
   "execution_count": 93,
   "metadata": {},
   "outputs": [
    {
     "name": "stderr",
     "output_type": "stream",
     "text": [
      "c:\\Users\\Lenovo\\AppData\\Local\\Programs\\Python\\Python311\\Lib\\site-packages\\sklearn\\model_selection\\_split.py:776: UserWarning: The least populated class in y has only 1 members, which is less than n_splits=5.\n",
      "  warnings.warn(\n"
     ]
    }
   ],
   "source": [
    "skf = StratifiedKFold(n_splits=5, random_state=42, shuffle=True)\n",
    "\n",
    "for train_index, val_index in skf.split(X_train, y_train):\n",
    "    X_train_fold, X_val_fold = X_train.iloc[train_index], X_train.iloc[val_index]\n",
    "    y_train_fold, y_val_fold = y_train.iloc[train_index], y_train.iloc[val_index] "
   ]
  },
  {
   "cell_type": "markdown",
   "metadata": {},
   "source": [
    "### Tuning w/ Optuna"
   ]
  },
  {
   "cell_type": "code",
   "execution_count": null,
   "metadata": {},
   "outputs": [],
   "source": [
    "def objective(trial):\n",
    "    model_type = trial.suggest_categorical('model_type', ['DecisionTree', 'RandomForest'])\n",
    "\n",
    "    if model_type == 'DecisionTree':\n",
    "        max_depth = trial.suggest_int('max_depth', 2, 32)\n",
    "        model = DecisionTreeClassifier(max_depth=max_depth, random_state=100)\n",
    "    elif model_type == 'RandomForest':\n",
    "        n_estimators = trial.suggest_int('n_estimators', 10, 200)\n",
    "        max_depth = trial.suggest_int('max_depth', 2, 32)\n",
    "        model = RandomForestClassifier(n_estimators=n_estimators, max_depth=max_depth, random_state=100)\n",
    "    # elif model_type == 'SVM':\n",
    "    #     C = trial.suggest_float('C', 0.1, 10.0)\n",
    "    #     kernel = trial.suggest_categorical('kernel', ['linear', 'rbf', 'poly'])\n",
    "    #     model = SVC(C=C, kernel=kernel, random_state=42)\n",
    "    # elif model_type == 'NaiveBayes':\n",
    "    #     model = GaussianNB()\n",
    "  \n",
    "    # Evaluate using cross-validation\n",
    "    score = cross_val_score(model, X_train, y_train, cv=skf, scoring='accuracy').mean()\n",
    "    return score\n",
    "\n",
    "# Optuna study for hyperparameter optimization\n",
    "study = optuna.create_study(direction='maximize')\n",
    "study.optimize(objective, n_trials=50)\n",
    "\n",
    "# Best parameters\n",
    "print(\"Best parameters:\", study.best_params)\n"
   ]
  },
  {
   "cell_type": "code",
   "execution_count": null,
   "metadata": {},
   "outputs": [],
   "source": [
    "# Access the best parameters\n",
    "best_params = study.best_params\n",
    "print(\"Best parameters:\", best_params)"
   ]
  },
  {
   "cell_type": "markdown",
   "metadata": {},
   "source": [
    "## Eval"
   ]
  },
  {
   "cell_type": "code",
   "execution_count": null,
   "metadata": {},
   "outputs": [],
   "source": [
    "# Selecting the best model from optuna\n",
    "if best_params['model_type'] == 'DecisionTree':\n",
    "    model = DecisionTreeClassifier(max_depth=best_params['max_depth'], random_state=100)\n",
    "elif best_params['model_type'] == 'RandomForest':\n",
    "    model = RandomForestClassifier(n_estimators=best_params['n_estimators'], max_depth=best_params['max_depth'], random_state=100)\n",
    "# elif best_params['model_type'] == 'SVM':\n",
    "#     model = SVC(C=best_params['C'], kernel=best_params['kernel'], random_state=42)\n",
    "# elif best_params['model_type'] == 'NaiveBayes':\n",
    "#     model = GaussianNB()\n"
   ]
  },
  {
   "cell_type": "markdown",
   "metadata": {},
   "source": [
    "accuracy of 75\n",
    "\n",
    "n_estimators=83,\n",
    "        max_depth=5,\n",
    "        min_samples_split=3,\n",
    "        min_samples_leaf=2,\n",
    "        max_features='log2',\n",
    "        random_state=100\n",
    "\n",
    "n_estimators=75,\n",
    "        max_depth=5,\n",
    "        min_samples_split=3,\n",
    "        min_samples_leaf=2,\n",
    "        max_features='log2',\n",
    "        random_state=100"
   ]
  },
  {
   "cell_type": "code",
   "execution_count": 95,
   "metadata": {},
   "outputs": [
    {
     "name": "stdout",
     "output_type": "stream",
     "text": [
      "Test set accuracy: 0.75\n",
      "                   precision    recall  f1-score   support\n",
      "\n",
      " Perekayasa Madya       1.00      0.50      0.67         2\n",
      "Perekayasa Magang       0.50      1.00      0.67         1\n",
      " Perekayasa Utama       0.67      1.00      0.80         2\n",
      "    Pimpinan Muda       1.00      1.00      1.00         2\n",
      "  Pimpinan Pemula       0.00      0.00      0.00         1\n",
      "\n",
      "         accuracy                           0.75         8\n",
      "        macro avg       0.63      0.70      0.63         8\n",
      "     weighted avg       0.73      0.75      0.70         8\n",
      "\n",
      "Model achieved at least 70% accuracy.\n"
     ]
    }
   ],
   "source": [
    "\n",
    "modela = RandomForestClassifier(\n",
    "        n_estimators=75,\n",
    "        max_depth=5,\n",
    "        min_samples_split=2,\n",
    "        min_samples_leaf=2,\n",
    "        max_features='log2',\n",
    "        random_state=100)\n",
    "\n",
    "# rf = RandomForestClassifier(n_estimators=100, random_state=42)\n",
    "# # Create a Bagging classifier with the Random Forest as base estimator\n",
    "# bg = BaggingClassifier(base_estimator=modela, n_estimators=10, random_state=42)\n",
    "# bg.fit(X_train, y_train)\n",
    "\n",
    "#Train the best model on the entire training set\n",
    "modela.fit(X_train, y_train)\n",
    "\n",
    "# Evaluate on the test set\n",
    "y_pred = modela.predict(X_test)\n",
    "# y_pred = bg.predict(X_test)\n",
    "accuracy = accuracy_score(y_test, y_pred)\n",
    "print(f\"Test set accuracy: {accuracy:.2f}\")\n",
    "print(classification_report(y_test, y_pred, zero_division=0))\n",
    "\n",
    "# Check if the accuracy meets the threshold\n",
    "if accuracy >= 0.70:\n",
    "    print(\"Model achieved at least 70% accuracy.\")\n",
    "else:\n",
    "    print(\"Model did not achieve 70% accuracy.\")"
   ]
  },
  {
   "cell_type": "code",
   "execution_count": 96,
   "metadata": {},
   "outputs": [
    {
     "data": {
      "text/plain": [
       "array([[1, 1, 0, 0, 0],\n",
       "       [0, 1, 0, 0, 0],\n",
       "       [0, 0, 2, 0, 0],\n",
       "       [0, 0, 0, 2, 0],\n",
       "       [0, 0, 1, 0, 0]], dtype=int64)"
      ]
     },
     "execution_count": 96,
     "metadata": {},
     "output_type": "execute_result"
    }
   ],
   "source": [
    "cm= confusion_matrix(y_test, y_pred)\n",
    "cm"
   ]
  },
  {
   "cell_type": "code",
   "execution_count": 97,
   "metadata": {},
   "outputs": [
    {
     "name": "stderr",
     "output_type": "stream",
     "text": [
      "c:\\Users\\Lenovo\\AppData\\Local\\Programs\\Python\\Python311\\Lib\\site-packages\\sklearn\\model_selection\\_split.py:776: UserWarning: The least populated class in y has only 1 members, which is less than n_splits=5.\n",
      "  warnings.warn(\n"
     ]
    },
    {
     "name": "stdout",
     "output_type": "stream",
     "text": [
      "RandomForestClassifier(max_depth=5, max_features='log2', min_samples_leaf=2,\n",
      "                       n_estimators=75, random_state=100) Mean cross-validation score: 0.28\n",
      "\n"
     ]
    }
   ],
   "source": [
    "# Calculate the mean K-Fold cross-validation score\n",
    "mean_kfold_score = cross_val_score(modela, X_train, y_train, cv=skf, scoring='accuracy').mean()\n",
    "#print(f\"Mean K-Fold cross-validation score: {mean_kfold_score:.2f}\")\n",
    "print(f\"{modela} Mean cross-validation score: {mean_kfold_score:.2f}\\n\")"
   ]
  },
  {
   "cell_type": "code",
   "execution_count": 98,
   "metadata": {},
   "outputs": [],
   "source": [
    "# # Learning curve\n",
    "# train_sizes, train_scores, test_scores = learning_curve(modela, X, y, cv=skf, n_jobs=-1)\n",
    "\n",
    "# train_scores_mean = np.mean(train_scores, axis=1)\n",
    "# test_scores_mean = np.mean(test_scores, axis=1)\n",
    "\n",
    "# plt.figure()\n",
    "# plt.title('Learning Curve')\n",
    "# plt.xlabel('Training examples')\n",
    "# plt.ylabel('Score')\n",
    "# plt.plot(train_sizes, train_scores_mean, 'o-', color='r', label='Training score')\n",
    "# plt.plot(train_sizes, test_scores_mean, 'o-', color='g', label='Cross-validation score')\n",
    "# plt.legend(loc='best')\n",
    "# plt.grid()\n",
    "# plt.show()"
   ]
  },
  {
   "cell_type": "markdown",
   "metadata": {},
   "source": [
    "### Graph Displays"
   ]
  },
  {
   "cell_type": "markdown",
   "metadata": {},
   "source": [
    "Masih overfit: target besok, mencoba early stopping dan cara agar tidak overfit"
   ]
  },
  {
   "cell_type": "code",
   "execution_count": 99,
   "metadata": {},
   "outputs": [
    {
     "name": "stderr",
     "output_type": "stream",
     "text": [
      "c:\\Users\\Lenovo\\AppData\\Local\\Programs\\Python\\Python311\\Lib\\site-packages\\sklearn\\model_selection\\_split.py:776: UserWarning: The least populated class in y has only 1 members, which is less than n_splits=5.\n",
      "  warnings.warn(\n"
     ]
    },
    {
     "data": {
      "image/png": "[encoded data removed]",
      "text/plain": [
       "<Figure size 640x480 with 1 Axes>"
      ]
     },
     "metadata": {},
     "output_type": "display_data"
    }
   ],
   "source": [
    "# Generate learning curves\n",
    "train_sizes, train_scores, test_scores = learning_curve(\n",
    "    modela, X, y, cv=skf, n_jobs=-1, train_sizes=np.linspace(0.1, 1.0, 10))\n",
    "\n",
    "# Calculate mean and standard deviation for training and test sets\n",
    "train_mean = np.mean(train_scores, axis=1)\n",
    "train_std = np.std(train_scores, axis=1)\n",
    "test_mean = np.mean(test_scores, axis=1)\n",
    "test_std = np.std(test_scores, axis=1)\n",
    "\n",
    "# Plot learning curves\n",
    "plt.plot(train_sizes, train_mean, label='Training score', color='darkorange', lw=2)\n",
    "plt.fill_between(train_sizes, train_mean - train_std, train_mean + train_std, alpha=0.2, color='darkorange')\n",
    "plt.plot(train_sizes, test_mean, label='Cross-validation score', color='navy', lw=2)\n",
    "plt.fill_between(train_sizes, test_mean - test_std, test_mean + test_std, alpha=0.2, color='navy')\n",
    "plt.xlabel('Training examples')\n",
    "plt.ylabel('Score')\n",
    "plt.legend(loc='best')\n",
    "plt.title('Learning Curves')\n",
    "plt.show()"
   ]
  },
  {
   "cell_type": "markdown",
   "metadata": {},
   "source": [
    "### Model Prediction"
   ]
  },
  {
   "cell_type": "code",
   "execution_count": 100,
   "metadata": {},
   "outputs": [],
   "source": [
    "# input_data= (0.0, 2.0, 3)\n",
    "# input_data_as_numpy_array= np.array(input_data)\n",
    "# input_data_reshape= input_data_as_numpy_array.reshape(1,-1)\n",
    "# std_data= scaler.transform(input_data_reshape)\n",
    "# print(std_data)"
   ]
  },
  {
   "cell_type": "code",
   "execution_count": 101,
   "metadata": {},
   "outputs": [],
   "source": [
    "# prediction= modela.predict(std_data)\n",
    "# print(prediction)"
   ]
  },
  {
   "cell_type": "code",
   "execution_count": 102,
   "metadata": {},
   "outputs": [],
   "source": [
    "# print(f\"Mapping Divisi:\\n{mapping_divisi}\\n\\nMapping Gol:\\n{mapping_gol}\\n\\nMapping Status:\\n{mapping_status}\\n\\nMapping Status:\\n{mapping_LK}\")\n"
   ]
  },
  {
   "cell_type": "code",
   "execution_count": 103,
   "metadata": {},
   "outputs": [],
   "source": [
    "# # Fungsi untuk mengonversi input data kategorikal menjadi numerik\n",
    "# def preprocess_input(input_data):\n",
    "#     # Inisialisasi dictionary untuk mapping\n",
    "#     status_map = {'Kontrak': 0, 'Tetap': 1}\n",
    "#     divisi_map = {'DAK': 0, 'DBM': 1, 'DIP': 2, 'DLA': 3, 'DMS': 4, 'DS0': 5}\n",
    "#     gol_map = {'A3': 0, 'B1': 1, 'B1-MI': 2, 'B2': 3, 'B2-MI': 4, 'B3': 5, 'B3-MI': 6, 'B4': 7, 'C1': 8, 'C2': 9, 'C3': 10, 'F2': 11}\n",
    "#     # lokasi_map = {'Jakarta': 0, 'Malang': 1, 'Malang Madani': 2}\n",
    "    \n",
    "#     # Mapping menggunakan if-else\n",
    "#     input_data['STATUS'] = status_map[input_data['STATUS']]\n",
    "#     input_data['DIVISI'] = divisi_map[input_data['DIVISI']]\n",
    "#     input_data['GOL'] = gol_map[input_data['GOL']]\n",
    "#     # input_data['LOKASI'] = lokasi_map[input_data['LOKASI']]\n",
    "    \n",
    "#     return input_data\n"
   ]
  },
  {
   "cell_type": "code",
   "execution_count": 104,
   "metadata": {},
   "outputs": [],
   "source": [
    "# # Contoh data input baru (kategorikal)\n",
    "# input_data = {\n",
    "#     'DURATIONS_PERPROJECT': 10.0,\n",
    "#     'TOTAL_PROJECT': 6.0,\n",
    "#     'LAMA_KERJA': 8,\n",
    "#     'STATUS': 'Tetap',\n",
    "#     'DIVISI': 'DMS',\n",
    "#     'GOL': 'A3'\n",
    "# }"
   ]
  },
  {
   "cell_type": "code",
   "execution_count": 105,
   "metadata": {},
   "outputs": [],
   "source": [
    "# # Preprocessing input data (encoding kategorikal)\n",
    "# input_data['STATUS'] = list(mapping_status.keys())[list(mapping_status.values()).index(input_data['STATUS'])]\n",
    "# input_data['DIVISI'] = list(mapping_divisi.keys())[list(mapping_divisi.values()).index(input_data['DIVISI'])]\n",
    "# input_data['GOL'] = list(mapping_gol.keys())[list(mapping_gol.values()).index(input_data['GOL'])]\n",
    "\n",
    "# # Ubah data input menjadi DataFrame\n",
    "# input_data_df = pd.DataFrame([input_data])\n",
    "\n",
    "# # Scaling data input\n",
    "# input_data_scaled = scaler.fit_transform(input_data_df)\n",
    "\n",
    "# # Lakukan prediksi dengan model yang telah dilatih\n",
    "# prediction = modela.predict(input_data_scaled)\n",
    "\n",
    "# # Print hasil prediksi dalam bentuk kategorikal\n",
    "# #print(\"Prediksi Level Keahlian:\", encoder_level_keahlian.inverse_transform(prediction))\n",
    "# print(\"Prediksi Level Keahlian:\", prediction)\n"
   ]
  },
  {
   "cell_type": "code",
   "execution_count": 106,
   "metadata": {},
   "outputs": [],
   "source": [
    "# def predict_keahlian(input_data):\n",
    "#     # Convert input data to DataFrame\n",
    "#     input_df = pd.DataFrame([input_data], columns=X.columns)\n",
    "    \n",
    "#     # Handle categorical data encoding\n",
    "#     for col, le in label_encoders.items():\n",
    "#         input_df[col] = le.transform(input_df[col])\n",
    "    \n",
    "#     numerical_cols = ['DURATIONS_PERPROJECT', 'TOTAL_PROJECT', 'LAMA_KERJA']\n",
    "#     # Handle numerical data scaling\n",
    "#     input_df[numerical_cols] = scaler.transform(input_df[numerical_cols])\n",
    "    \n",
    "#     # Predict\n",
    "#     prediction = modela.predict(input_df)\n",
    "    \n",
    "#     # Return the predicted LEVEL KEAHLIAN\n",
    "#     return prediction[0]\n",
    "\n",
    "# # Example of how to use the predict_keahlian function\n",
    "# new_data = {\n",
    "#     'DURATIONS_PERPROJECT': 1.0,\n",
    "#     'TOTAL_PROJECT': 1.0,\n",
    "#     'STATUS': 'Tetap',\n",
    "#     'LAMA_KERJA': 4,\n",
    "#     'DIVISI': 'DBM',\n",
    "#     'GOL': 'C1'\n",
    "# }\n",
    "\n",
    "# predicted_keahlian = predict_keahlian(new_data)\n",
    "# print(f\"Predicted LEVEL KEAHLIAN: {predicted_keahlian}\")\n"
   ]
  },
  {
   "cell_type": "code",
   "execution_count": 107,
   "metadata": {},
   "outputs": [
    {
     "name": "stdout",
     "output_type": "stream",
     "text": [
      "Predicted LEVEL KEAHLIAN: Perekayasa Utama\n"
     ]
    }
   ],
   "source": [
    "# Fungsi untuk melakukan prediksi\n",
    "def predict_keahlian(input_data):\n",
    "    input_df = pd.DataFrame([input_data], columns=X.columns)\n",
    "    \n",
    "    # Gunakan kembali LabelEncoders yang sudah disimpan\n",
    "    for col, le in label_encoders.items():\n",
    "        input_df[col] = le.transform(input_df[col])  # Gunakan transform, bukan fit_transform\n",
    "    \n",
    "    # Handle scaling numerical data\n",
    "    numerical_cols = ['DURATIONS_PERPROJECT', 'TOTAL_PROJECT', 'LAMA_KERJA']\n",
    "    input_df[numerical_cols] = scaler.transform(input_df[numerical_cols])\n",
    "    \n",
    "    # Lakukan prediksi\n",
    "    prediction = modela.predict(input_df)\n",
    "    \n",
    "    return prediction[0]\n",
    "\n",
    "# Contoh penggunaan\n",
    "new_data = {\n",
    "    'DURATIONS_PERPROJECT': 1.0,\n",
    "    'TOTAL_PROJECT': 1.0,\n",
    "    'STATUS': 'Tetap',\n",
    "    'LAMA_KERJA': 4,\n",
    "    'DIVISI': 'DBM',\n",
    "    'GOL': 'C1'\n",
    "}\n",
    "\n",
    "predicted_keahlian = predict_keahlian(new_data)\n",
    "print(f\"Predicted LEVEL KEAHLIAN: {predicted_keahlian}\")"
   ]
  },
  {
   "cell_type": "markdown",
   "metadata": {},
   "source": [
    "### Rough"
   ]
  },
  {
   "cell_type": "code",
   "execution_count": 118,
   "metadata": {},
   "outputs": [],
   "source": [
    "new_data = {\n",
    "    'DURATIONS_PERPROJECT': 1.0,\n",
    "    'TOTAL_PROJECT': 1.0,\n",
    "    'STATUS': 'Tetap',\n",
    "    'LAMA_KERJA': 4,\n",
    "    'DIVISI': 'DSO',\n",
    "    'GOL': 'B1'\n",
    "}"
   ]
  },
  {
   "cell_type": "code",
   "execution_count": 119,
   "metadata": {},
   "outputs": [],
   "source": [
    "input_df = pd.DataFrame([new_data], columns=X.columns)\n"
   ]
  },
  {
   "cell_type": "code",
   "execution_count": 121,
   "metadata": {},
   "outputs": [],
   "source": [
    "for col, le in label_encoders.items():\n",
    "        input_df[col] = le.fit_transform(input_df[col])"
   ]
  },
  {
   "cell_type": "code",
   "execution_count": 122,
   "metadata": {},
   "outputs": [
    {
     "data": {
      "text/html": [
       "<div>\n",
       "<style scoped>\n",
       "    .dataframe tbody tr th:only-of-type {\n",
       "        vertical-align: middle;\n",
       "    }\n",
       "\n",
       "    .dataframe tbody tr th {\n",
       "        vertical-align: top;\n",
       "    }\n",
       "\n",
       "    .dataframe thead th {\n",
       "        text-align: right;\n",
       "    }\n",
       "</style>\n",
       "<table border=\"1\" class=\"dataframe\">\n",
       "  <thead>\n",
       "    <tr style=\"text-align: right;\">\n",
       "      <th></th>\n",
       "      <th>DURATIONS_PERPROJECT</th>\n",
       "      <th>TOTAL_PROJECT</th>\n",
       "      <th>LAMA_KERJA</th>\n",
       "      <th>STATUS</th>\n",
       "      <th>DIVISI</th>\n",
       "      <th>GOL</th>\n",
       "    </tr>\n",
       "  </thead>\n",
       "  <tbody>\n",
       "    <tr>\n",
       "      <th>0</th>\n",
       "      <td>1.0</td>\n",
       "      <td>1.0</td>\n",
       "      <td>4</td>\n",
       "      <td>0</td>\n",
       "      <td>0</td>\n",
       "      <td>0</td>\n",
       "    </tr>\n",
       "  </tbody>\n",
       "</table>\n",
       "</div>"
      ],
      "text/plain": [
       "   DURATIONS_PERPROJECT  TOTAL_PROJECT  LAMA_KERJA  STATUS  DIVISI  GOL\n",
       "0                   1.0            1.0           4       0       0    0"
      ]
     },
     "execution_count": 122,
     "metadata": {},
     "output_type": "execute_result"
    }
   ],
   "source": [
    "input_df"
   ]
  },
  {
   "cell_type": "code",
   "execution_count": null,
   "metadata": {},
   "outputs": [],
   "source": [
    "# new_data"
   ]
  },
  {
   "cell_type": "code",
   "execution_count": null,
   "metadata": {},
   "outputs": [],
   "source": []
  }
 ],
 "metadata": {
  "kernelspec": {
   "display_name": "Python 3",
   "language": "python",
   "name": "python3"
  },
  "language_info": {
   "codemirror_mode": {
    "name": "ipython",
    "version": 3
   },
   "file_extension": ".py",
   "mimetype": "text/x-python",
   "name": "python",
   "nbconvert_exporter": "python",
   "pygments_lexer": "ipython3",
   "version": "3.11.4"
  }
 },
 "nbformat": 4,
 "nbformat_minor": 2
}
